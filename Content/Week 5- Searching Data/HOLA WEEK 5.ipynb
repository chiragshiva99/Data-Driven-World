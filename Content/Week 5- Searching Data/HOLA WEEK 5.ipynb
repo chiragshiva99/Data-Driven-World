{
 "cells": [
  {
   "cell_type": "markdown",
   "metadata": {
    "deletable": false,
    "editable": false,
    "nbgrader": {
     "grade": false,
     "locked": true,
     "solution": false
    }
   },
   "source": [
    "# Week 5 Problem Set\n",
    "\n",
    "## Homework"
   ]
  },
  {
   "cell_type": "markdown",
   "metadata": {
    "colab_type": "text",
    "deletable": false,
    "editable": false,
    "id": "9j25r7SUvPnV",
    "nbgrader": {
     "grade": false,
     "locked": true,
     "solution": false
    }
   },
   "source": [
    "**HW1.** *Dictionary:* Write two functions:\n",
    "1. `count_degrees(G)`: which sums up the degrees of all vertices in the graph. The degree of a vertex is defined as the number of edges connected to a Vertex. The argument `G` is a dictionary that represents the graph.\n",
    "2. `count_edges(G)`: which counts the number of edges in the graph. An edge is defined as a connection between two vertices. The argument `G` is a dictionary."
   ]
  },
  {
   "cell_type": "code",
   "execution_count": 2,
   "metadata": {
    "colab": [],
    "colab_type": "code",
    "collapsed": true,
    "id": "v7t7of_0vQkI"
   },
   "outputs": [],
   "source": [
    "def count_degrees(G):\n",
    "    ###\n",
    "    ### YOUR CODE HERE\n",
    "    ###\n",
    "    count = 0\n",
    "    for key,values in G.items():\n",
    "        for value in values:\n",
    "            count += 1\n",
    "    return count \n",
    "    \n",
    "def count_edges(G):\n",
    "    ###\n",
    "    ### YOUR CODE HERE\n",
    "    ###\n",
    "    edges = count_degrees(G)/2\n",
    "    return edges"
   ]
  },
  {
   "cell_type": "code",
   "execution_count": 3,
   "metadata": {
    "colab": [],
    "colab_type": "code",
    "collapsed": true,
    "deletable": false,
    "editable": false,
    "id": "Kil-jfkGRCnJ",
    "nbgrader": {
     "grade": true,
     "grade_id": "hw11",
     "locked": true,
     "points": "1",
     "solution": false
    }
   },
   "outputs": [],
   "source": [
    "g1 = {\"A\": [\"B\", \"E\"],\n",
    "      \"B\": [\"A\", \"C\"],\n",
    "      \"C\": [\"B\", \"D\", \"E\"],\n",
    "      \"D\": [\"C\"],\n",
    "      \"E\": [\"A\", \"C\"]}\n",
    "\n",
    "d = count_degrees(g1)\n",
    "e = count_edges(g1)\n",
    "\n",
    "assert d == 10\n",
    "assert e == 5"
   ]
  },
  {
   "cell_type": "code",
   "execution_count": 4,
   "metadata": {
    "collapsed": true,
    "deletable": false,
    "editable": false,
    "nbgrader": {
     "grade": true,
     "grade_id": "hw12",
     "locked": true,
     "points": "1",
     "solution": false
    }
   },
   "outputs": [],
   "source": [
    "###\n",
    "### AUTOGRADER TEST - DO NOT REMOVE\n",
    "###\n"
   ]
  },
  {
   "cell_type": "markdown",
   "metadata": {
    "deletable": false,
    "editable": false,
    "nbgrader": {
     "grade": false,
     "locked": true,
     "solution": false
    }
   },
   "source": [
    "**HW2.** Create a class called `GraphSearch` which is a subclass of the class `Graph`. This class should override the method `_create_vertex(id)` and instantiate a `VertexSearch` object instead of `Vertex`."
   ]
  },
  {
   "cell_type": "code",
   "execution_count": 5,
   "metadata": {
    "collapsed": true
   },
   "outputs": [],
   "source": [
    "# Copy Vertex class from Cohort\n",
    "class Vertex:\n",
    "    ###\n",
    "    ### YOUR CODE HERE\n",
    "    ###\n",
    "    def __init__(self, id=\"\"):\n",
    "        self.id = id # string\n",
    "        self.neighbours = {} # dictionary eg: {\"Vi_instance\": 1, \"Vj_instance\":3}\n",
    "    \n",
    "    # nbr_vertex: vertex instance\n",
    "    # weight: int \n",
    "\n",
    "    def add_neighbour(self, nbr_vertex, weight=0):\n",
    "        self.neighbours[nbr_vertex] = weight\n",
    "    \n",
    "    def get_neighbours(self):\n",
    "        return list(self.neighbours.keys())\n",
    "    \n",
    "    # neighbour: Vertex instance\n",
    "    def get_weight(self, neighbour):\n",
    "        return self.neighbours.get(neighbour, None)\n",
    "    \n",
    "    def __eq__(self, other):\n",
    "        return self.id == other.id\n",
    "    \n",
    "    def __lt__(self, other):\n",
    "        return self.id < other.id\n",
    "    \n",
    "    def __hash__(self):\n",
    "        return hash(self.id)\n",
    "    \n",
    "    def __str__(self):\n",
    "        return \"Vertex {self.id} is connected to: \".format(self=self) \\\n",
    "                + \", \".join([x.id for x in self.get_neighbours()])\n"
   ]
  },
  {
   "cell_type": "code",
   "execution_count": 6,
   "metadata": {
    "collapsed": true
   },
   "outputs": [],
   "source": [
    "# Copy VertexSearch class from Cohort\n",
    "\n",
    "import sys\n",
    "\n",
    "class VertexSearch(Vertex):\n",
    "        ###\n",
    "        ### YOUR CODE HERE\n",
    "        ###\n",
    "    def __init__(self, id=\"\"):\n",
    "        ###\n",
    "        ### YOUR CODE HERE\n",
    "        ###\n",
    "        super().__init__(id) \n",
    "        self.colour = \"white\"\n",
    "        self.d = sys.maxsize \n",
    "        self._f = sys.maxsize\n",
    "        self._parent = None \n",
    "        \n",
    "    @property \n",
    "    def f(self):\n",
    "        return self._f\n",
    "\n",
    "    @f.setter\n",
    "    def f(self, value):\n",
    "        self._f = value\n",
    "    \n",
    "    @property \n",
    "    def parent(self):\n",
    "        return self._parent\n",
    "    \n",
    "    @parent.setter\n",
    "    def parent(self, value):\n",
    "        self._parent = value\n",
    "\n",
    "\n",
    "\n"
   ]
  },
  {
   "cell_type": "code",
   "execution_count": 7,
   "metadata": {
    "collapsed": true
   },
   "outputs": [],
   "source": [
    "#Copy Graph over from Cohort\n",
    "class Graph:\n",
    "    ###\n",
    "    ### YOUR CODE HERE\n",
    "    ###\n",
    "    def __init__(self):\n",
    "        self.vertices = {} # Dict, key = string of Vertex id, value is Vertex instance\n",
    "        # to get the neighbouts of a vertex in this graph: self.vertices[vid].neighbours\n",
    "    def _create_vertex(self, id):\n",
    "        #create a new vertex object and run it\n",
    "        return Vertex(id)\n",
    "    \n",
    "    def add_vertex(self, id):\n",
    "        v = self._create_vertex(id)\n",
    "        # add it to this instance's verties attribute \n",
    "        self.vertices[v.id] = v \n",
    "    \n",
    "    def get_vertex(self, id):\n",
    "        return self.vertices.get(id, None)\n",
    "    \n",
    "    def add_edge(self, start_v, end_v, weight=0):\n",
    "        # check if start_v is in the graph's vertices dict\n",
    "        if start_v not in self.vertices.keys():\n",
    "            self.add_vertex(start_v)\n",
    "\n",
    "        start_vertex = self.vertices[start_v]\n",
    "\n",
    "        if end_v not in self.vertices.keys():\n",
    "            self.add_vertex(end_v)\n",
    "\n",
    "        end_vertex = self.vertices[end_v]\n",
    "\n",
    "        start_vertex.add_neighbour(end_vertex, weight)\n",
    "    \n",
    "    def get_neighbours(self, id):\n",
    "        v = self.get_vertex(id)\n",
    "        if v is not None:\n",
    "            neighbours = v.get_neighbours()\n",
    "            neighbours_id = []\n",
    "            for neighbouring_vertex in neighbours:\n",
    "                # neighbouring_vertex is a vertex instance, so extract its id \n",
    "                neighbours_id.append(neighbouring_vertex.id)\n",
    "            return neighbours_id\n",
    "        return None\n",
    "    \n",
    "    def __contains__(self, val):\n",
    "        return val in self.vertices.keys()\n",
    "\n",
    "    def __iter__(self):\n",
    "        for k,v in self.vertices.items():\n",
    "            yield v \n",
    "        \n",
    "    # write a code to create a computed property called num_vertices\n",
    "    @property\n",
    "    def num_vertices(self):\n",
    "        return len(self.vertices)"
   ]
  },
  {
   "cell_type": "code",
   "execution_count": 8,
   "metadata": {
    "collapsed": true
   },
   "outputs": [],
   "source": [
    "class GraphSearch(Graph):\n",
    "    ##BEGIN SOLUTION\n",
    "    def _create_vertex(self, id):\n",
    "        return VertexSearch(id)\n",
    "    ##END SOLUTION\n",
    "    pass"
   ]
  },
  {
   "cell_type": "code",
   "execution_count": 9,
   "metadata": {
    "collapsed": true,
    "deletable": false,
    "editable": false,
    "nbgrader": {
     "grade": true,
     "grade_id": "hw21",
     "locked": true,
     "points": "1",
     "solution": false
    }
   },
   "outputs": [],
   "source": [
    "g2 = GraphSearch()\n",
    "g2.add_vertex(\"Z\")\n",
    "assert(type(g2.vertices[\"Z\"]) == type(VertexSearch()))"
   ]
  },
  {
   "cell_type": "code",
   "execution_count": 10,
   "metadata": {
    "collapsed": true,
    "deletable": false,
    "editable": false,
    "nbgrader": {
     "grade": true,
     "grade_id": "hw22",
     "locked": true,
     "points": "1",
     "solution": false
    }
   },
   "outputs": [],
   "source": [
    "###\n",
    "### AUTOGRADER TEST - DO NOT REMOVE\n",
    "###\n"
   ]
  },
  {
   "cell_type": "markdown",
   "metadata": {
    "colab_type": "text",
    "deletable": false,
    "editable": false,
    "id": "W_WeKdlDSN_k",
    "nbgrader": {
     "grade": false,
     "locked": true,
     "solution": false
    }
   },
   "source": [
    "**HW3.** *Undirected Graph:* **You need to complete CS5 and CS6 before you do this homework.** Paste your answer for `Search2D` and `SearchBFS` classes into the cell below.\n",
    "\n",
    "Create a subclass of `GraphSearch` class called `UGraphSearch` for undirected graphs. All edges in undirected graphs are bidirectional (i.e. vertex1 <-> vertex2). \n",
    "This means that you need to override the `add_edge()` method."
   ]
  },
  {
   "cell_type": "code",
   "execution_count": 11,
   "metadata": {
    "collapsed": true
   },
   "outputs": [],
   "source": [
    "#Copy Queue over from Wk4 Homework\n",
    "class Queue:\n",
    "    pass\n",
    "    ###\n",
    "    ### YOUR CODE HERE\n",
    "    ###\n",
    "\n",
    "    def __init__(self):\n",
    "        self.__items = []\n",
    "    \n",
    "    def enqueue(self, item):\n",
    "        self.__items.insert(0, item)\n",
    "    \n",
    "    def dequeue(self):\n",
    "        ###\n",
    "        ### YOUR CODE HERE\n",
    "        ###\n",
    "        remove = self.__items.pop()\n",
    "        return remove\n",
    "    \n",
    "    def peek(self):\n",
    "        ###\n",
    "        ### YOUR CODE HERE\n",
    "        ###\n",
    "        peek = self.__items[-1]\n",
    "        return peek\n",
    "    \n",
    "    def is_empty(self):\n",
    "        ###\n",
    "        ### YOUR CODE HERE\n",
    "        ###\n",
    "        length = len(self.__items)\n",
    "        return length == 0\n",
    "    \n",
    "    @property\n",
    "    def size(self):\n",
    "        ###\n",
    "        ### YOUR CODE HERE\n",
    "        ###\n",
    "        length = len(self.__items)\n",
    "        return length \n"
   ]
  },
  {
   "cell_type": "code",
   "execution_count": 12,
   "metadata": {
    "collapsed": true
   },
   "outputs": [],
   "source": [
    "# copy Search2D over from CS5\n",
    "\n",
    "import sys\n",
    "\n",
    "class Search2D:\n",
    "      \n",
    "    ###\n",
    "    ### YOUR CODE HERE\n",
    "    ###\n",
    "    def __init__(self, g):\n",
    "        self.graph = g\n",
    "    \n",
    "    def clear_vertices(self):\n",
    "        ###\n",
    "        ### YOUR CODE HERE\n",
    "        ###\n",
    "        for vid, vertex in self.graph.vertices.items():\n",
    "            vertex.colour = \"white\"\n",
    "            vertex.d = sys.maxsize\n",
    "            vertex.f = sys.maxsize\n",
    "            vertex.parent = None\n",
    "    \n",
    "        pass\n",
    "    \n",
    "    def __iter__(self):\n",
    "        return iter([v for v in self.graph])\n",
    "    \n",
    "    def __len__(self):\n",
    "        return len([v for v in self.graph.vertices])\n"
   ]
  },
  {
   "cell_type": "code",
   "execution_count": 13,
   "metadata": {},
   "outputs": [],
   "source": [
    "# copy SearchBFS over from CS6\n",
    "\n",
    "class SearchBFS(Search2D):\n",
    "\n",
    "\n",
    "    def search_from(self, start):\n",
    "        ###\n",
    "        ### YOUR CODE HERE\n",
    "        ###\n",
    "        start_vertex = self.graph.get_vertex(start)\n",
    "        if start_vertex is None:\n",
    "            return None \n",
    "        \n",
    "        self.clear_vertices()\n",
    "        \n",
    "        start_vertex.d = 0\n",
    "        vertices_to_explore_queue = Queue()\n",
    "        vertices_to_explore_queue.enqueue(start_vertex)\n",
    "        \n",
    "        while not vertices_to_explore_queue.is_empty():\n",
    "        \n",
    "            current_vertex_explored = vertices_to_explore_queue.dequeue()\n",
    "            current_vertex_explored.colour = \"black\"\n",
    "\n",
    "        \n",
    "            for current_vertex_neighbour in current_vertex_explored.get_neighbours():\n",
    "                if current_vertex_neighbour.colour == \"white\" and current_vertex_neighbour.parent is None:\n",
    "                    current_vertex_neighbour.parent = current_vertex_explored\n",
    "                    current_vertex_neighbour.d = current_vertex_explored.d + 1\n",
    "                    vertices_to_explore_queue.enqueue(current_vertex_neighbour)\n",
    "                \n",
    "    \n",
    "    def get_shortest_path(self, start, dest):\n",
    "        pass\n",
    "        ###\n",
    "        ### YOUR CODE HERE\n",
    "        ###\n",
    "        result = []\n",
    "        self.get_path(start, dest, result)\n",
    "        if result == []:\n",
    "            return None \n",
    "        else:\n",
    "            return result\n",
    "        \n",
    "    def get_path(self, start, dest, result):\n",
    "        ###\n",
    "        ### YOUR CODE HERE\n",
    "        ###\n",
    "        \n",
    "        start_vertex = self.graph.get_vertex(start)\n",
    "        if start_vertex is None:\n",
    "            return None \n",
    "        \n",
    "        end_vertex = self.graph.get_vertex(dest)\n",
    "        if end_vertex is None:\n",
    "            return None \n",
    "\n",
    "        if start_vertex.d != 0:\n",
    "            self.search_from(start)\n",
    "\n",
    "        print(start_vertex.id, end_vertex.id)\n",
    "        if (start == dest):\n",
    "            result.append(start)     \n",
    "        elif end_vertex.parent is None:\n",
    "            result.append(\"No Path\")\n",
    "        else:\n",
    "            self.get_path(start, end_vertex.parent.id, result)\n",
    "            result.append(dest)"
   ]
  },
  {
   "cell_type": "code",
   "execution_count": 14,
   "metadata": {
    "colab": [],
    "colab_type": "code",
    "collapsed": true,
    "id": "_8Tm0u1rSUSr"
   },
   "outputs": [],
   "source": [
    "class UGraphSearch(GraphSearch):\n",
    "        ###\n",
    "        ### YOUR CODE HERE\n",
    "        ### \n",
    "    def add_edge(self, start_v, end_v, weight=0):\n",
    "        if start_v not in self.vertices:\n",
    "            self.add_vertex(start_v)\n",
    "        if end_v not in self.vertices:\n",
    "            self.add_vertex(end_v)\n",
    "        \n",
    "        v_start = self.vertices[start_v]\n",
    "        v_end = self.vertices[end_v]\n",
    "        \n",
    "        v_start.add_neighbour(v_end, weight)\n",
    "        v_end.add_neighbour(v_start, weight)\n",
    "        "
   ]
  },
  {
   "cell_type": "code",
   "execution_count": 15,
   "metadata": {
    "colab": [],
    "colab_type": "code",
    "deletable": false,
    "editable": false,
    "id": "sqoDWngtS0hu",
    "nbgrader": {
     "grade": true,
     "grade_id": "hw31",
     "locked": true,
     "points": "1",
     "solution": false
    }
   },
   "outputs": [],
   "source": [
    "g2 = UGraphSearch()\n",
    "assert g2.vertices == {} and g2.num_vertices == 0\n",
    "g2.add_vertex(\"L\")\n",
    "g2.add_vertex(\"I\")\n",
    "g2.add_vertex(\"S\")\n",
    "g2.add_vertex(\"P\")\n",
    "assert g2.num_vertices == 4\n",
    "assert \"L\" in g2\n",
    "assert \"I\" in g2\n",
    "assert \"S\" in g2\n",
    "assert \"P\" in g2\n",
    "g2.add_edge(\"L\", \"I\")\n",
    "g2.add_edge(\"I\", \"S\")\n",
    "g2.add_edge(\"S\", \"P\")\n",
    "assert sorted(g2.get_neighbours(\"L\")) == [\"I\"]\n",
    "assert sorted(g2.get_neighbours(\"I\")) == [\"L\", \"S\"]\n",
    "assert sorted(g2.get_neighbours(\"S\")) == [\"I\", \"P\"]\n",
    "assert sorted(g2.get_neighbours(\"P\")) == [\"S\"]"
   ]
  },
  {
   "cell_type": "code",
   "execution_count": 16,
   "metadata": {
    "collapsed": true,
    "deletable": false,
    "editable": false,
    "nbgrader": {
     "grade": true,
     "grade_id": "hw32",
     "locked": true,
     "points": "1",
     "solution": false
    }
   },
   "outputs": [],
   "source": [
    "###\n",
    "### AUTOGRADER TEST - DO NOT REMOVE\n",
    "###\n"
   ]
  },
  {
   "cell_type": "code",
   "execution_count": 18,
   "metadata": {
    "colab": [],
    "colab_type": "code",
    "deletable": false,
    "editable": false,
    "id": "ZibyOISBseeI",
    "nbgrader": {
     "grade": true,
     "grade_id": "hw33",
     "locked": true,
     "points": "1",
     "solution": false
    }
   },
   "outputs": [
    {
     "name": "stdout",
     "output_type": "stream",
     "text": [
      "s u\n",
      "s t\n",
      "s w\n",
      "s s\n",
      "v s\n",
      "v r\n",
      "v v\n",
      "v y\n",
      "v x\n",
      "v w\n",
      "v s\n",
      "v r\n",
      "v v\n"
     ]
    }
   ],
   "source": [
    "g2 = UGraphSearch()\n",
    "g2.add_vertex(\"r\")\n",
    "g2.add_vertex(\"s\")\n",
    "g2.add_vertex(\"t\")\n",
    "g2.add_vertex(\"u\")\n",
    "g2.add_vertex(\"v\")\n",
    "g2.add_vertex(\"w\")\n",
    "g2.add_vertex(\"x\")\n",
    "g2.add_vertex(\"y\")\n",
    "g2.add_vertex(\"z\")\n",
    "g2.add_edge(\"r\", \"s\")\n",
    "g2.add_edge(\"r\", \"v\")\n",
    "g2.add_edge(\"s\", \"w\")\n",
    "g2.add_edge(\"t\", \"u\")\n",
    "g2.add_edge(\"t\", \"x\")\n",
    "g2.add_edge(\"t\", \"w\")\n",
    "g2.add_edge(\"u\", \"t\")\n",
    "g2.add_edge(\"u\", \"x\")\n",
    "g2.add_edge(\"u\", \"y\")\n",
    "g2.add_edge(\"v\", \"r\")\n",
    "g2.add_edge(\"w\", \"s\")\n",
    "g2.add_edge(\"w\", \"t\")\n",
    "g2.add_edge(\"w\", \"x\")\n",
    "g2.add_edge(\"x\", \"w\")\n",
    "g2.add_edge(\"x\", \"t\")\n",
    "g2.add_edge(\"x\", \"u\")\n",
    "g2.add_edge(\"x\", \"y\")\n",
    "g2.add_edge(\"y\", \"u\")\n",
    "g2.add_edge(\"y\", \"x\")\n",
    "gs = SearchBFS(g2)\n",
    "gs.search_from(\"s\")\n",
    "assert gs.graph.get_vertex(\"s\").d == 0\n",
    "assert gs.graph.get_vertex(\"t\").d == 2\n",
    "assert gs.graph.get_vertex(\"u\").d == 3\n",
    "assert gs.graph.get_vertex(\"v\").d == 2\n",
    "assert gs.graph.get_vertex(\"w\").d == 1\n",
    "assert gs.graph.get_vertex(\"x\").d == 2\n",
    "assert gs.graph.get_vertex(\"y\").d == 3\n",
    "assert gs.graph.get_vertex(\"r\").d == 1\n",
    "ans = gs.get_shortest_path(\"s\", \"u\")\n",
    "assert ans == [\"s\", \"w\", \"t\", \"u\"] or ans == [\"s\", \"w\", \"x\", \"u\"]\n",
    "ans = gs.get_shortest_path(\"v\", \"s\")\n",
    "assert ans == [\"v\", \"r\", \"s\"]\n",
    "ans = gs.get_shortest_path(\"v\", \"y\")\n",
    "assert ans == [\"v\", \"r\", \"s\", \"w\", \"x\", \"y\"]"
   ]
  },
  {
   "cell_type": "code",
   "execution_count": 19,
   "metadata": {
    "collapsed": true,
    "deletable": false,
    "editable": false,
    "nbgrader": {
     "grade": true,
     "grade_id": "hw34",
     "locked": true,
     "points": "1",
     "solution": false
    }
   },
   "outputs": [],
   "source": [
    "###\n",
    "### AUTOGRADER TEST - DO NOT REMOVE\n",
    "###\n"
   ]
  },
  {
   "cell_type": "markdown",
   "metadata": {
    "colab_type": "text",
    "deletable": false,
    "editable": false,
    "id": "wBuZB4CLY2hM",
    "nbgrader": {
     "grade": false,
     "locked": true,
     "solution": false
    }
   },
   "source": [
    "**HW4.** *Depth-First-Search:* Create a class `SearchDFS` as a child class of `Search2D` to implement Depth-First-Search algorithm. You should add one additional attribute:\n",
    "- `time`: which is an attribute to record the discovery time and the finishing time.\n",
    "\n",
    "The class should also implement the following methods:\n",
    "- `search()`: which modifies the vertices' properties such as `colour`, `d`, and `parent` following Depth-First-Search algorithm.\n",
    "- `dfs_visit(vert)`: which is the recursive method for visiting a vertex in Depth-First-Search algorithm."
   ]
  },
  {
   "cell_type": "code",
   "execution_count": 20,
   "metadata": {
    "colab": [],
    "colab_type": "code",
    "collapsed": true,
    "id": "xJ4GTlWNUYHT"
   },
   "outputs": [],
   "source": [
    "import sys\n",
    "\n",
    "class SearchDFS(Search2D):\n",
    "    def __init__(self, g):\n",
    "        self.graph = g\n",
    "        self.time = 0\n",
    "      \n",
    "    def search(self):\n",
    "        ###\n",
    "        ### YOUR CODE HERE\n",
    "        ###\n",
    "        self.clear_vertices()\n",
    "        \n",
    "        self.time = 0\n",
    "        \n",
    "        for v in self.graph.vertices.values():\n",
    "            if v.colour == \"white\":\n",
    "                self.dfs_visit(v)\n",
    "    \n",
    "    def dfs_visit(self, vert):\n",
    "        ###\n",
    "        ### YOUR CODE HERE\n",
    "        ###\n",
    "        self.time += 1\n",
    "        vert.d = self.time\n",
    "        vert.colour = \"grey\"\n",
    "    \n",
    "        for neighbour in self.graph.get_neighbours(vert.id): \n",
    "            if self.graph.get_vertex(neighbour).colour == \"white\":\n",
    "                self.graph.get_vertex(neighbour).parent = vert\n",
    "                self.dfs_visit(self.graph.get_vertex(neighbour))\n",
    "                \n",
    "        vert.colour = \"black\"\n",
    "        self.time +=1\n",
    "        vert.f = self.time\n",
    "        "
   ]
  },
  {
   "cell_type": "code",
   "execution_count": 21,
   "metadata": {
    "colab": [],
    "colab_type": "code",
    "deletable": false,
    "editable": false,
    "id": "U09_8Sr7alja",
    "nbgrader": {
     "grade": true,
     "grade_id": "hw41",
     "locked": true,
     "points": "1",
     "solution": false
    }
   },
   "outputs": [],
   "source": [
    "g4 = GraphSearch()\n",
    "g4.add_vertex(\"e\")\n",
    "g4.add_vertex(\"m\")\n",
    "g4.add_vertex(\"a\")\n",
    "g4.add_vertex(\"c\")\n",
    "g4.add_vertex(\"s\")\n",
    "g4.add_edge(\"e\", \"m\")\n",
    "g4.add_edge(\"m\", \"a\")\n",
    "g4.add_edge(\"a\", \"c\")\n",
    "g4.add_edge(\"c\", \"s\")\n",
    "gs = SearchDFS(g4)\n",
    "gs.search()\n",
    "assert gs.graph.get_vertex(\"e\").parent == None \n",
    "assert gs.graph.get_vertex(\"m\").parent == gs.graph.get_vertex(\"e\")\n",
    "\n",
    "assert gs.graph.get_vertex(\"m\").d == 2 and gs.graph.get_vertex(\"a\").f == 8\n",
    "assert gs.graph.get_vertex(\"c\").d == 4 and gs.graph.get_vertex(\"s\").f == 6"
   ]
  },
  {
   "cell_type": "code",
   "execution_count": 22,
   "metadata": {
    "collapsed": true,
    "deletable": false,
    "editable": false,
    "nbgrader": {
     "grade": true,
     "grade_id": "hw42",
     "locked": true,
     "points": "1",
     "solution": false
    }
   },
   "outputs": [],
   "source": [
    "###\n",
    "### AUTOGRADER TEST - DO NOT REMOVE\n",
    "###\n"
   ]
  },
  {
   "cell_type": "markdown",
   "metadata": {
    "colab_type": "text",
    "deletable": false,
    "editable": false,
    "id": "DE7cWgQkbu6b",
    "nbgrader": {
     "grade": false,
     "locked": true,
     "solution": false
    }
   },
   "source": [
    "**HW5.** *Topological Sort:* Create a function that takes in a `SearchDFS` object to perform a topological sort:\n",
    "- `topological_sort(g)`: which takes in a `SearchDFS` object and returns a list of `VertexSearch` objects sorted based on their `f` property. This method should call the `search()` method of the `SearchDFS` to first calculate the `f` property of the vertices. Note that you need to copy the `SearchDFS` object of your input argument so as not to mutate the object."
   ]
  },
  {
   "cell_type": "code",
   "execution_count": 23,
   "metadata": {
    "colab": [],
    "colab_type": "code",
    "collapsed": true,
    "id": "CoCNeXCrb3Sx"
   },
   "outputs": [],
   "source": [
    "import sys\n",
    "import copy\n",
    "\n",
    "def topological_sort(g):\n",
    "    ls = []\n",
    "    g.search()\n",
    "\n",
    "    for value in g.graph.vertices.values():\n",
    "        ls.append(value)\n",
    "\n",
    "    ls.sort(key = lambda x : x.f, reverse = True) #checking finishing time \n",
    "        \n",
    "    return ls\n",
    "\n",
    "    \n",
    "    \n",
    "    "
   ]
  },
  {
   "cell_type": "code",
   "execution_count": 24,
   "metadata": {
    "colab": [],
    "colab_type": "code",
    "deletable": false,
    "editable": false,
    "id": "-1hSwLKTdGPq",
    "nbgrader": {
     "grade": true,
     "grade_id": "hw51",
     "locked": true,
     "points": "1",
     "solution": false
    }
   },
   "outputs": [],
   "source": [
    "import copy\n",
    "g = GraphSearch()\n",
    "g.add_vertex(\"3/4 cup milk\")\n",
    "g.add_vertex(\"1 egg\")\n",
    "g.add_vertex(\"1 tbl oil\")\n",
    "g.add_vertex(\"1 cup mix\")\n",
    "g.add_vertex(\"heat syrup\")\n",
    "g.add_vertex(\"heat griddle\")\n",
    "g.add_vertex(\"pour 1/4 cup\")\n",
    "g.add_vertex(\"turn when bubbly\")\n",
    "g.add_vertex(\"eat\")\n",
    "g.add_edge(\"3/4 cup milk\", \"1 cup mix\")\n",
    "g.add_edge(\"1 egg\", \"1 cup mix\")\n",
    "g.add_edge(\"1 tbl oil\", \"1 cup mix\")\n",
    "g.add_edge(\"1 cup mix\", \"heat syrup\")\n",
    "g.add_edge(\"1 cup mix\", \"pour 1/4 cup\")\n",
    "g.add_edge(\"heat griddle\", \"pour 1/4 cup\")\n",
    "g.add_edge(\"pour 1/4 cup\", \"turn when bubbly\")\n",
    "g.add_edge(\"turn when bubbly\", \"eat\")\n",
    "g.add_edge(\"heat syrup\", \"eat\")\n",
    "gs = SearchDFS(g)  \n",
    "\n",
    "path = topological_sort(gs)\n",
    "ans = [v.f for v in copy.copy(path)]\n",
    "assert ans == [18, 16, 14, 12, 11, 10, 9, 6, 5]\n",
    "ans = [v.id for v in copy.copy(path)]\n",
    "assert ans == ['heat griddle', '1 tbl oil', '1 egg', '3/4 cup milk', '1 cup mix', 'pour 1/4 cup', 'turn when bubbly', 'heat syrup', 'eat']"
   ]
  },
  {
   "cell_type": "code",
   "execution_count": 67,
   "metadata": {
    "collapsed": true,
    "deletable": false,
    "editable": false,
    "nbgrader": {
     "grade": true,
     "grade_id": "hw52",
     "locked": true,
     "points": "1",
     "solution": false
    }
   },
   "outputs": [],
   "source": [
    "###\n",
    "### AUTOGRADER TEST - DO NOT REMOVE\n",
    "###\n"
   ]
  },
  {
   "cell_type": "code",
   "execution_count": null,
   "metadata": {
    "collapsed": true
   },
   "outputs": [],
   "source": []
  }
 ],
 "metadata": {
  "interpreter": {
   "hash": "51eabe67b9fcba34aa9b730a9906da35591090736f9cefdd50c42f446e21cc77"
  },
  "kernelspec": {
   "display_name": "Python 3.9.7 64-bit (windows store)",
   "name": "python3"
  },
  "language_info": {
   "codemirror_mode": {
    "name": "ipython",
    "version": 3
   },
   "file_extension": ".py",
   "mimetype": "text/x-python",
   "name": "python",
   "nbconvert_exporter": "python",
   "pygments_lexer": "ipython3",
   "version": "3.9.7"
  }
 },
 "nbformat": 4,
 "nbformat_minor": 4
}
