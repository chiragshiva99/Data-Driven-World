{
    "cells": [
        {
            "cell_type": "markdown",
            "metadata": {
                "deletable": false,
                "editable": false,
                "nbgrader": {
                    "grade": false,
                    "locked": true,
                    "solution": false
                }
            },
            "source": [
                "# Week 9 Problem Set\n",
                "\n",
                "## Homeworks"
            ]
        },
        {
            "cell_type": "code",
            "execution_count": 269,
            "metadata": {
                "collapsed": true,
                "deletable": false,
                "editable": false,
                "nbgrader": {
                    "grade": false,
                    "locked": true,
                    "solution": false
                }
            },
            "outputs": [],
            "source": [
                "import numpy as np\n",
                "import pandas as pd\n",
                "import matplotlib.pyplot as plt\n",
                "import seaborn as sns"
            ]
        },
        {
            "cell_type": "markdown",
            "metadata": {
                "deletable": false,
                "editable": false,
                "nbgrader": {
                    "grade": false,
                    "locked": true,
                    "solution": false
                }
            },
            "source": [
                "**HW0.** Copy and paste some of the functions from you cohort sessions and previous exercises that you will need in this homework. See below template and the list here:\n",
                "- `normalize_z()`\n",
                "- `get_features_targets()`\n",
                "- `prepare_feature()`\n",
                "- `prepare_target()`\n",
                "- `predict()`\n",
                "- `predict_norm()`\n",
                "- `split_data()`\n",
                "- `r2_score()`\n",
                "- `mean_squared_error()`\n",
                "\n",
                "Then do the following:\n",
                "- Read the CSV file `housing_processed.csv` and extract the following columns:\n",
                "    - x data: RM, DIS, and INDUS columns \n",
                "    - y data: MEDV column\n",
                "- Normalize the features using z normalization. \n",
                "- Plot the data using scatter plot. Use the following columns:\n"
            ]
        },
        {
            "cell_type": "code",
            "execution_count": 270,
            "metadata": {
                "collapsed": true
            },
            "outputs": [],
            "source": [
                "def normalize_z(df):\n",
                "    ### BEGIN SOLUTION\n",
                "    return (df - df.mean(axis=0)) / df.std(axis=0)  # remember what axis is for\n",
                "    ### END SOLUTION\n",
                "    pass\n",
                "\n",
                "\n",
                "def get_features_targets(df, feature_names, target_names):\n",
                "    ### BEGIN SOLUTION\n",
                "    df_feature = df[feature_names]\n",
                "    df_target = df[target_names]\n",
                "    ### END SOLUTION\n",
                "    return df_feature, df_target\n",
                "\n",
                "\n",
                "def prepare_feature(df_feature):\n",
                "    ### BEGIN SOLUTION\n",
                "    # we want to add columns of 1s to X as its first column\n",
                "    cols = len(\n",
                "        df_feature.columns\n",
                "    )  # this will be just 1 in linear reg because we only select ONE feature\n",
                "    # extract the columns [1:end] from the df_feature dataframe\n",
                "    # we don't want the first column of df_feature\n",
                "    # to_numpy() removes the first column (header column)\n",
                "    feature = df_feature.to_numpy()\n",
                "    number_of_samples = feature.shape[0]\n",
                "    # create column of ones np.ones((feature.shape[0],1))\n",
                "    # concatenate with feature, in axis=1 --> add another column to the output\n",
                "    return np.concatenate((np.ones((number_of_samples, 1)), feature), axis=1)\n",
                "    ### END SOLUTION\n",
                "\n",
                "\n",
                "def prepare_target(df_target):\n",
                "    ### BEGIN SOLUTION\n",
                "    # extract the columns [1:end] from the df_target dataframe\n",
                "    # we don't want the first column of df_target\n",
                "    # to_numpy() removes the first column (header column)\n",
                "    return df_target.to_numpy()\n",
                "    ### END SOLUTION\n",
                "    pass\n",
                "\n",
                "\n",
                "def predict(df_feature, beta):\n",
                "    ### BEGIN SOLUTION\n",
                "    X = prepare_feature(normalize_z(df_feature))\n",
                "    return predict_norm(X, beta)\n",
                "    ### END SOLUTION\n",
                "    pass\n",
                "\n",
                "\n",
                "def predict_norm(X, beta):\n",
                "    ### BEGIN SOLUTION\n",
                "    return np.matmul(X, beta)  # the straight line regression equation Xb\n",
                "    ### END SOLUTION\n",
                "    pass\n",
                "\n",
                "\n",
                "def split_data(df_feature, df_target, random_state=100, test_size=0.3):\n",
                "    ### BEGIN SOLUTION\n",
                "    # get the indexes of the feature\n",
                "    indexes = df_feature.index\n",
                "    # seed the random value\n",
                "    if random_state != None:\n",
                "        np.random.seed(random_state)\n",
                "    # get the number of test samples to extract\n",
                "    k = int(test_size * len(indexes))\n",
                "    # get the indexes from the features and target to select as test set\n",
                "    test_index = np.random.choice(indexes, k, replace=False)\n",
                "    indexes = set(indexes)\n",
                "    test_index = set(test_index)\n",
                "    train_index = indexes - test_index\n",
                "    df_feature_train = df_feature.loc[train_index, :]\n",
                "    df_feature_test = df_feature.loc[test_index, :]\n",
                "    df_target_train = df_target.loc[train_index, :]\n",
                "    df_target_test = df_target.loc[test_index, :]\n",
                "    ### END SOLUTION\n",
                "    return df_feature_train, df_feature_test, df_target_train, df_target_test\n",
                "\n",
                "\n",
                "def r2_score(y, ypred):\n",
                "    ### BEGIN SOLUTION\n",
                "    # (nparray1 - nparray2) --> element-wise sub\n",
                "    y_mean = np.mean(y)\n",
                "    ss_res = np.sum((y - ypred)**2)\n",
                "    ss_tot = np.sum((y - y_mean)**2)\n",
                "    return 1 - (ss_res / ss_tot)\n",
                "    ### END SOLUTION\n",
                "    pass\n",
                "\n",
                "\n",
                "def mean_squared_error(target, pred):\n",
                "    ### BEGIN SOLUTION\n",
                "    n = target.shape[0]\n",
                "    return 1 / n * np.sum((target - pred)**2)\n",
                "    ### END SOLUTION\n",
                "    pass"
            ]
        },
        {
            "cell_type": "code",
            "execution_count": 271,
            "metadata": {
                "collapsed": true
            },
            "outputs": [],
            "source": [
                "# Read the CSV file\n",
                "df = pd.read_csv(\"housing_processed.csv\")\n",
                "\n",
                "# Extract the features and the targets\n",
                "df_features, df_target = get_features_targets(df, ['RM', 'DIS', 'INDUS'], ['MEDV'])\n",
                "\n",
                "# Normalize using z normalization\n",
                "df_features = normalize_z(df_features)\n",
                "\n",
                "###\n",
                "### YOUR CODE HERE\n",
                "###\n"
            ]
        },
        {
            "cell_type": "code",
            "execution_count": 272,
            "metadata": {
                "collapsed": true,
                "deletable": false,
                "editable": false,
                "nbgrader": {
                    "grade": true,
                    "grade_id": "hw01",
                    "locked": true,
                    "points": "1",
                    "solution": false
                }
            },
            "outputs": [],
            "source": [
                "###\n",
                "### AUTOGRADER TEST - DO NOT REMOVE\n",
                "###\n"
            ]
        },
        {
            "cell_type": "code",
            "execution_count": 273,
            "metadata": {
                "deletable": false,
                "editable": false,
                "nbgrader": {
                    "grade": true,
                    "grade_id": "hw02",
                    "locked": true,
                    "points": "1",
                    "solution": false
                }
            },
            "outputs": [
                {
                    "data": {
                        "text/html": [
                            "<div>\n",
                            "<style scoped>\n",
                            "    .dataframe tbody tr th:only-of-type {\n",
                            "        vertical-align: middle;\n",
                            "    }\n",
                            "\n",
                            "    .dataframe tbody tr th {\n",
                            "        vertical-align: top;\n",
                            "    }\n",
                            "\n",
                            "    .dataframe thead th {\n",
                            "        text-align: right;\n",
                            "    }\n",
                            "</style>\n",
                            "<table border=\"1\" class=\"dataframe\">\n",
                            "  <thead>\n",
                            "    <tr style=\"text-align: right;\">\n",
                            "      <th></th>\n",
                            "      <th>RM</th>\n",
                            "      <th>DIS</th>\n",
                            "      <th>INDUS</th>\n",
                            "    </tr>\n",
                            "  </thead>\n",
                            "  <tbody>\n",
                            "    <tr>\n",
                            "      <th>count</th>\n",
                            "      <td>5.060000e+02</td>\n",
                            "      <td>5.060000e+02</td>\n",
                            "      <td>5.060000e+02</td>\n",
                            "    </tr>\n",
                            "    <tr>\n",
                            "      <th>mean</th>\n",
                            "      <td>-1.149882e-14</td>\n",
                            "      <td>7.308603e-16</td>\n",
                            "      <td>-3.016965e-15</td>\n",
                            "    </tr>\n",
                            "    <tr>\n",
                            "      <th>std</th>\n",
                            "      <td>1.000000e+00</td>\n",
                            "      <td>1.000000e+00</td>\n",
                            "      <td>1.000000e+00</td>\n",
                            "    </tr>\n",
                            "    <tr>\n",
                            "      <th>min</th>\n",
                            "      <td>-3.876413e+00</td>\n",
                            "      <td>-1.265817e+00</td>\n",
                            "      <td>-1.556302e+00</td>\n",
                            "    </tr>\n",
                            "    <tr>\n",
                            "      <th>25%</th>\n",
                            "      <td>-5.680681e-01</td>\n",
                            "      <td>-8.048913e-01</td>\n",
                            "      <td>-8.668328e-01</td>\n",
                            "    </tr>\n",
                            "    <tr>\n",
                            "      <th>50%</th>\n",
                            "      <td>-1.083583e-01</td>\n",
                            "      <td>-2.790473e-01</td>\n",
                            "      <td>-2.108898e-01</td>\n",
                            "    </tr>\n",
                            "    <tr>\n",
                            "      <th>75%</th>\n",
                            "      <td>4.822906e-01</td>\n",
                            "      <td>6.617161e-01</td>\n",
                            "      <td>1.014995e+00</td>\n",
                            "    </tr>\n",
                            "    <tr>\n",
                            "      <th>max</th>\n",
                            "      <td>3.551530e+00</td>\n",
                            "      <td>3.956602e+00</td>\n",
                            "      <td>2.420170e+00</td>\n",
                            "    </tr>\n",
                            "  </tbody>\n",
                            "</table>\n",
                            "</div>"
                        ],
                        "text/plain": [
                            "                 RM           DIS         INDUS\n",
                            "count  5.060000e+02  5.060000e+02  5.060000e+02\n",
                            "mean  -1.149882e-14  7.308603e-16 -3.016965e-15\n",
                            "std    1.000000e+00  1.000000e+00  1.000000e+00\n",
                            "min   -3.876413e+00 -1.265817e+00 -1.556302e+00\n",
                            "25%   -5.680681e-01 -8.048913e-01 -8.668328e-01\n",
                            "50%   -1.083583e-01 -2.790473e-01 -2.108898e-01\n",
                            "75%    4.822906e-01  6.617161e-01  1.014995e+00\n",
                            "max    3.551530e+00  3.956602e+00  2.420170e+00"
                        ]
                    },
                    "metadata": {},
                    "output_type": "display_data"
                },
                {
                    "data": {
                        "text/html": [
                            "<div>\n",
                            "<style scoped>\n",
                            "    .dataframe tbody tr th:only-of-type {\n",
                            "        vertical-align: middle;\n",
                            "    }\n",
                            "\n",
                            "    .dataframe tbody tr th {\n",
                            "        vertical-align: top;\n",
                            "    }\n",
                            "\n",
                            "    .dataframe thead th {\n",
                            "        text-align: right;\n",
                            "    }\n",
                            "</style>\n",
                            "<table border=\"1\" class=\"dataframe\">\n",
                            "  <thead>\n",
                            "    <tr style=\"text-align: right;\">\n",
                            "      <th></th>\n",
                            "      <th>MEDV</th>\n",
                            "    </tr>\n",
                            "  </thead>\n",
                            "  <tbody>\n",
                            "    <tr>\n",
                            "      <th>count</th>\n",
                            "      <td>506.000000</td>\n",
                            "    </tr>\n",
                            "    <tr>\n",
                            "      <th>mean</th>\n",
                            "      <td>22.532806</td>\n",
                            "    </tr>\n",
                            "    <tr>\n",
                            "      <th>std</th>\n",
                            "      <td>9.197104</td>\n",
                            "    </tr>\n",
                            "    <tr>\n",
                            "      <th>min</th>\n",
                            "      <td>5.000000</td>\n",
                            "    </tr>\n",
                            "    <tr>\n",
                            "      <th>25%</th>\n",
                            "      <td>17.025000</td>\n",
                            "    </tr>\n",
                            "    <tr>\n",
                            "      <th>50%</th>\n",
                            "      <td>21.200000</td>\n",
                            "    </tr>\n",
                            "    <tr>\n",
                            "      <th>75%</th>\n",
                            "      <td>25.000000</td>\n",
                            "    </tr>\n",
                            "    <tr>\n",
                            "      <th>max</th>\n",
                            "      <td>50.000000</td>\n",
                            "    </tr>\n",
                            "  </tbody>\n",
                            "</table>\n",
                            "</div>"
                        ],
                        "text/plain": [
                            "             MEDV\n",
                            "count  506.000000\n",
                            "mean    22.532806\n",
                            "std      9.197104\n",
                            "min      5.000000\n",
                            "25%     17.025000\n",
                            "50%     21.200000\n",
                            "75%     25.000000\n",
                            "max     50.000000"
                        ]
                    },
                    "metadata": {},
                    "output_type": "display_data"
                }
            ],
            "source": [
                "display(df_features.describe())\n",
                "display(df_target.describe())\n",
                "assert np.isclose(df_features['RM'].mean(), 0)\n",
                "assert np.isclose(df_features['DIS'].mean(), 0)\n",
                "assert np.isclose(df_features['INDUS'].mean(), 0)\n",
                "\n",
                "assert np.isclose(df_features['RM'].std(), 1)\n",
                "assert np.isclose(df_features['DIS'].std(), 1)\n",
                "assert np.isclose(df_features['INDUS'].std(), 1)\n",
                "\n",
                "assert np.isclose(df_target['MEDV'].mean(), 22.532806)\n",
                "assert np.isclose(df_target['MEDV'].std(), 9.197104)\n",
                "\n",
                "assert np.isclose(df_features['RM'].median(), -0.1083583)\n",
                "assert np.isclose(df_features['DIS'].median(), -0.2790473)\n",
                "assert np.isclose(df_features['INDUS'].median(), -0.2108898)"
            ]
        },
        {
            "cell_type": "code",
            "execution_count": 274,
            "metadata": {
                "collapsed": true,
                "deletable": false,
                "editable": false,
                "nbgrader": {
                    "grade": true,
                    "grade_id": "hw03",
                    "locked": true,
                    "points": "1",
                    "solution": false
                }
            },
            "outputs": [],
            "source": [
                "###\n",
                "### AUTOGRADER TEST - DO NOT REMOVE\n",
                "###\n"
            ]
        },
        {
            "cell_type": "code",
            "execution_count": 275,
            "metadata": {
                "deletable": false,
                "editable": false,
                "nbgrader": {
                    "grade": false,
                    "locked": true,
                    "solution": false
                }
            },
            "outputs": [
                {
                    "data": {
                        "text/plain": [
                            "<matplotlib.collections.PathCollection at 0x1e6263aa280>"
                        ]
                    },
                    "execution_count": 275,
                    "metadata": {},
                    "output_type": "execute_result"
                },
                {
                    "data": {
                        "image/png": "[encoded data removed]",
                        "text/plain": [
                            "<Figure size 432x288 with 1 Axes>"
                        ]
                    },
                    "metadata": {},
                    "output_type": "display_data"
                }
            ],
            "source": [
                "sns.set()\n",
                "plt.scatter(df_features[\"RM\"], df_target)"
            ]
        },
        {
            "cell_type": "code",
            "execution_count": 276,
            "metadata": {
                "deletable": false,
                "editable": false,
                "nbgrader": {
                    "grade": false,
                    "locked": true,
                    "solution": false
                }
            },
            "outputs": [
                {
                    "data": {
                        "text/plain": [
                            "<matplotlib.collections.PathCollection at 0x1e6263f4ac0>"
                        ]
                    },
                    "execution_count": 276,
                    "metadata": {},
                    "output_type": "execute_result"
                },
                {
                    "data": {
                        "image/png": "[encoded data removed]",
                        "text/plain": [
                            "<Figure size 432x288 with 1 Axes>"
                        ]
                    },
                    "metadata": {},
                    "output_type": "display_data"
                }
            ],
            "source": [
                "plt.scatter(df_features[\"DIS\"], df_target)"
            ]
        },
        {
            "cell_type": "code",
            "execution_count": 277,
            "metadata": {
                "deletable": false,
                "editable": false,
                "nbgrader": {
                    "grade": false,
                    "locked": true,
                    "solution": false
                }
            },
            "outputs": [
                {
                    "data": {
                        "text/plain": [
                            "<matplotlib.collections.PathCollection at 0x1e626443b20>"
                        ]
                    },
                    "execution_count": 277,
                    "metadata": {},
                    "output_type": "execute_result"
                },
                {
                    "data": {
                        "image/png": "[encoded data removed]",
                        "text/plain": [
                            "<Figure size 432x288 with 1 Axes>"
                        ]
                    },
                    "metadata": {},
                    "output_type": "display_data"
                }
            ],
            "source": [
                "plt.scatter(df_features[\"INDUS\"], df_target)"
            ]
        },
        {
            "cell_type": "markdown",
            "metadata": {
                "deletable": false,
                "editable": false,
                "nbgrader": {
                    "grade": false,
                    "locked": true,
                    "solution": false
                }
            },
            "source": [
                "**HW1.** *Multiple variables cost function:* Write a function `compute_cost_multi()` to compute the cost function of a linear regression model. The function should take in two 2-D numpy arrays. The first one is the matrix of the linear equation and the second one is the actual target value.\n",
                "\n",
                "Recall that:\n",
                "\n",
                "$$J(\\hat{\\beta}_0, \\hat{\\beta}_1) = \\frac{1}{2m}\\Sigma^m_{i=1}\\left(\\hat{y}(x^i)-y^i\\right)^2$$\n",
                "\n",
                "where\n",
                "\n",
                "$$\\hat{y}(x) =  \\hat{\\beta}_0 + \\hat{\\beta}_1 x_1 + \\hat{\\beta}_2 x_2 + \\ldots + \\hat{\\beta}_n x_n$$\n",
                "\n",
                "The function should receive three Numpy arrays:\n",
                "- `X`: is the feature 2D Numpy array\n",
                "- `y`: is the target 2D Numpy array\n",
                "- `beta`: is the parameter 2D Numpy array\n",
                "\n",
                "The function should return the cost which is a float.\n",
                "\n",
                "You can use the following function in your code:\n",
                "- `np.matmul(array1, array2)`\n",
                "\n",
                "Note that if you wrote your Cohort session's `compute_cost()` using proper Matrix operations to do the square and the summation, the code will be exactly the same here."
            ]
        },
        {
            "cell_type": "code",
            "execution_count": 278,
            "metadata": {
                "collapsed": true
            },
            "outputs": [],
            "source": [
                "def compute_cost(X, y, beta):\n",
                "    J = 0\n",
                "    ### BEGIN SOLUTION\n",
                "    # X is n by 2\n",
                "    number_of_samples = X.shape[0]\n",
                "    error = np.matmul(X, beta) - y  # before squaring\n",
                "    error_sq = np.matmul(error.T, error)\n",
                "    J = (1) / (2 * number_of_samples) * error_sq  # J here is a numpy array\n",
                "    ### END SOLUTION\n",
                "    return J[0][0]  # return the scalar value of the error\n",
                "\n",
                "\n",
                "# feat target\n",
                "# 100 100\n",
                "# 200 200\n",
                "# 300 300\n",
                "# 400 400\n",
                "# 500 500\n",
                "# y = x --> beta0 = 0, beta1 = 1\n",
                "\n",
                "# if normalise the feat:\n",
                "# ? 100\n",
                "# ? 200\n",
                "# ? 300\n",
                "# ? 400\n",
                "# ? 500\n",
                "#  --> normalising the feature will still give you the y=beta0 + beta1*x --> Linear relationship\n"
            ]
        },
        {
            "cell_type": "code",
            "execution_count": 279,
            "metadata": {
                "collapsed": true,
                "deletable": false,
                "editable": false,
                "nbgrader": {
                    "grade": true,
                    "grade_id": "hw11",
                    "locked": true,
                    "points": "1",
                    "solution": false
                }
            },
            "outputs": [],
            "source": [
                "X = prepare_feature(df_features)\n",
                "target = prepare_target(df_target)\n",
                "\n",
                "assert isinstance(X, np.ndarray)\n",
                "assert isinstance(target, np.ndarray)\n",
                "assert X.shape == (506, 4)\n",
                "assert target.shape == (506, 1)"
            ]
        },
        {
            "cell_type": "code",
            "execution_count": 280,
            "metadata": {
                "collapsed": true,
                "deletable": false,
                "editable": false,
                "nbgrader": {
                    "grade": true,
                    "grade_id": "hw12",
                    "locked": true,
                    "points": "1",
                    "solution": false
                }
            },
            "outputs": [],
            "source": [
                "###\n",
                "### AUTOGRADER TEST - DO NOT REMOVE\n",
                "###\n"
            ]
        },
        {
            "cell_type": "code",
            "execution_count": 281,
            "metadata": {
                "deletable": false,
                "editable": false,
                "nbgrader": {
                    "grade": true,
                    "grade_id": "hw13",
                    "locked": true,
                    "points": "1",
                    "solution": false
                }
            },
            "outputs": [
                {
                    "name": "stdout",
                    "output_type": "stream",
                    "text": [
                        "296.0734584980237\n",
                        "270.40834049507595\n",
                        "314.85095131156146\n"
                    ]
                }
            ],
            "source": [
                "beta = np.zeros((4,1))\n",
                "J = compute_cost(X, target, beta)\n",
                "print(J)\n",
                "assert np.isclose(J, 296.0734)\n",
                "\n",
                "beta = np.ones((4,1))\n",
                "J = compute_cost(X, target, beta)\n",
                "print(J)\n",
                "assert np.isclose(J, 270.4083)\n",
                "\n",
                "beta = np.array([-1, 2, 1, 2]).reshape((4,1))\n",
                "J = compute_cost(X, target, beta)\n",
                "print(J)\n",
                "assert np.isclose(J, 314.8510)\n"
            ]
        },
        {
            "cell_type": "code",
            "execution_count": 282,
            "metadata": {
                "collapsed": true,
                "deletable": false,
                "editable": false,
                "nbgrader": {
                    "grade": true,
                    "grade_id": "hw14",
                    "locked": true,
                    "points": "1",
                    "solution": false
                }
            },
            "outputs": [],
            "source": [
                "###\n",
                "### AUTOGRADER TEST - DO NOT REMOVE\n",
                "###\n"
            ]
        },
        {
            "cell_type": "markdown",
            "metadata": {
                "deletable": false,
                "editable": false,
                "nbgrader": {
                    "grade": false,
                    "locked": true,
                    "solution": false
                }
            },
            "source": [
                "**HW2.** *Gradient Descent:* Write a function called `gradient_descent_multi()` that takes in four parameters:\n",
                "- `X`: is a 2-D numpy array for the features\n",
                "- `y`: is a vector array for the target\n",
                "- `alpha`: is the learning rate\n",
                "- `num_iters`: is the number of iteration to perform\n",
                "\n",
                "The function should return two arrays:\n",
                "- `beta`: is coefficient at the end of the iteration\n",
                "- `J_storage`: is the array that stores the cost value at each iteration\n",
                "\n",
                "You can use some of the following functions:\n",
                "- `np.matmul(array1, array2)`: which is to do matrix multiplication on two Numpy arrays.\n",
                "- `compute_cost()`: which the function you created in the previous problem set to compute the cost.\n",
                "\n",
                "Note that if you use proper matrix operations in your cohort sessions for the gradient descent function, the code will be the same here."
            ]
        },
        {
            "cell_type": "code",
            "execution_count": 283,
            "metadata": {
                "collapsed": true
            },
            "outputs": [],
            "source": [
                "def gradient_descent(X, y, beta, alpha, num_iters):\n",
                "    ### BEGIN SOLUTION\n",
                "    number_of_samples = X.shape[0]\n",
                "    J_storage = []\n",
                "    for i in range(num_iters):\n",
                "        # STEP 2: compute the derivate with current parameters\n",
                "        derivative_error = (1 / (number_of_samples)) * np.matmul(\n",
                "            X.T, (np.matmul(X, beta) - y))\n",
                "        # STEP 3: update the parameters\n",
                "        beta = beta - alpha * derivative_error\n",
                "        # compute cost at every iteration of beta\n",
                "        J_storage.append(compute_cost(X, y, beta))\n",
                "    ### END SOLUTION\n",
                "    return beta, J_storage\n"
            ]
        },
        {
            "cell_type": "code",
            "execution_count": 284,
            "metadata": {
                "deletable": false,
                "editable": false,
                "nbgrader": {
                    "grade": true,
                    "grade_id": "hw21",
                    "locked": true,
                    "points": "1",
                    "solution": false
                }
            },
            "outputs": [
                {
                    "name": "stdout",
                    "output_type": "stream",
                    "text": [
                        "[[22.53279993]\n",
                        " [ 5.42386374]\n",
                        " [-0.90367449]\n",
                        " [-2.95818095]]\n"
                    ]
                }
            ],
            "source": [
                "iterations = 1500\n",
                "alpha = 0.01\n",
                "beta = np.zeros((4,1))\n",
                "\n",
                "beta, J_storage = gradient_descent(X, target, beta, alpha, iterations)\n",
                "print(beta)\n",
                "assert np.isclose(beta[0], 22.5328)\n",
                "assert np.isclose(beta[1], 5.4239)\n",
                "assert np.isclose(beta[2], -0.90367)\n",
                "assert np.isclose(beta[3], -2.95818)"
            ]
        },
        {
            "cell_type": "code",
            "execution_count": 285,
            "metadata": {
                "collapsed": true,
                "deletable": false,
                "editable": false,
                "nbgrader": {
                    "grade": true,
                    "grade_id": "hw22",
                    "locked": true,
                    "points": "1",
                    "solution": false
                }
            },
            "outputs": [],
            "source": [
                "###\n",
                "### AUTOGRADER TEST - DO NOT REMOVE\n",
                "###\n"
            ]
        },
        {
            "cell_type": "code",
            "execution_count": 286,
            "metadata": {
                "deletable": false,
                "editable": false,
                "nbgrader": {
                    "grade": false,
                    "locked": true,
                    "solution": false
                }
            },
            "outputs": [
                {
                    "data": {
                        "text/plain": [
                            "[<matplotlib.lines.Line2D at 0x1e6264a4970>]"
                        ]
                    },
                    "execution_count": 286,
                    "metadata": {},
                    "output_type": "execute_result"
                },
                {
                    "data": {
                        "image/png": "[encoded data removed]",
                        "text/plain": [
                            "<Figure size 432x288 with 1 Axes>"
                        ]
                    },
                    "metadata": {},
                    "output_type": "display_data"
                }
            ],
            "source": [
                "plt.plot(J_storage)"
            ]
        },
        {
            "cell_type": "markdown",
            "metadata": {
                "deletable": false,
                "editable": false,
                "nbgrader": {
                    "grade": false,
                    "locked": true,
                    "solution": false
                }
            },
            "source": [
                "**HW3.** Do the following tasks:\n",
                "- Get the features and the targets.\n",
                "    - features: RM, DIS, INDUS\n",
                "    - target: MEDV\n",
                "- Use the previous functions called `predict()` to calculated the predicted values given the features and the model. \n",
                "- Create a target numpy array from the data frame."
            ]
        },
        {
            "cell_type": "code",
            "execution_count": 287,
            "metadata": {
                "collapsed": true
            },
            "outputs": [],
            "source": [
                "# This is from the previous result\n",
                "beta = np.array([[22.53279993],\n",
                "       [ 5.42386374],\n",
                "       [-0.90367449],\n",
                "       [-2.95818095]])\n",
                "\n",
                "# Extract the feature and the target\n",
                "df_features, df_target = get_features_targets(df, ['RM', 'DIS', 'INDUS'],['MEDV'])\n",
                "\n",
                "# Call predict()\n",
                "pred = predict(df_features, beta)\n",
                "\n",
                "# Change target to numpy array\n",
                "target = df_target.to_numpy()\n",
                "\n",
                "###\n",
                "### YOUR CODE HERE\n",
                "###\n"
            ]
        },
        {
            "cell_type": "code",
            "execution_count": 288,
            "metadata": {
                "collapsed": true,
                "deletable": false,
                "editable": false,
                "nbgrader": {
                    "grade": true,
                    "grade_id": "hw31",
                    "locked": true,
                    "points": "1",
                    "solution": false
                }
            },
            "outputs": [],
            "source": [
                "assert isinstance(pred, np.ndarray)\n",
                "assert np.isclose(pred.mean(), 22.5328)\n",
                "assert np.isclose(pred.std(), 6.7577)"
            ]
        },
        {
            "cell_type": "code",
            "execution_count": 289,
            "metadata": {
                "collapsed": true,
                "deletable": false,
                "editable": false,
                "nbgrader": {
                    "grade": true,
                    "grade_id": "hw32",
                    "locked": true,
                    "points": "1",
                    "solution": false
                }
            },
            "outputs": [],
            "source": [
                "###\n",
                "### AUTOGRADER TEST - DO NOT REMOVE\n",
                "###\n"
            ]
        },
        {
            "cell_type": "code",
            "execution_count": 290,
            "metadata": {
                "deletable": false,
                "editable": false,
                "nbgrader": {
                    "grade": false,
                    "locked": true,
                    "solution": false
                }
            },
            "outputs": [
                {
                    "data": {
                        "text/plain": [
                            "<matplotlib.collections.PathCollection at 0x1e6264f8c70>"
                        ]
                    },
                    "execution_count": 290,
                    "metadata": {},
                    "output_type": "execute_result"
                },
                {
                    "data": {
                        "image/png": "[encoded data removed]",
                        "text/plain": [
                            "<Figure size 432x288 with 1 Axes>"
                        ]
                    },
                    "metadata": {},
                    "output_type": "display_data"
                }
            ],
            "source": [
                "plt.scatter(df_features[\"RM\"],target)\n",
                "plt.scatter(df_features[\"RM\"],pred)\n",
                "### END HIDDEN TESTS"
            ]
        },
        {
            "cell_type": "code",
            "execution_count": 291,
            "metadata": {
                "deletable": false,
                "editable": false,
                "nbgrader": {
                    "grade": false,
                    "locked": true,
                    "solution": false
                }
            },
            "outputs": [],
            "source": [
                "###\n",
                "### AUTOGRADER TEST - DO NOT REMOVE\n",
                "###\n"
            ]
        },
        {
            "cell_type": "code",
            "execution_count": 292,
            "metadata": {
                "deletable": false,
                "editable": false,
                "nbgrader": {
                    "grade": false,
                    "locked": true,
                    "solution": false
                }
            },
            "outputs": [],
            "source": [
                "###\n",
                "### AUTOGRADER TEST - DO NOT REMOVE\n",
                "###\n"
            ]
        },
        {
            "cell_type": "markdown",
            "metadata": {
                "deletable": false,
                "editable": false,
                "nbgrader": {
                    "grade": false,
                    "locked": true,
                    "solution": false
                }
            },
            "source": [
                "**HW4.** *Splitting data:*  Do the following tasks:\n",
                "- Extract the following:\n",
                "    - features: RM, DIS, and INDUS\n",
                "    - target: MEDV \n",
                "- Use Week 9's function `split_data()` to split the data into train and test using `random_state=100` and `test_size=0.3`.\n",
                "- Normalize and prepare the features and the target.\n",
                "- Use the training data set and call `gradient_descent()` to obtain the `theta`.\n",
                "- Use the test data set to get the predicted values.\n",
                "\n",
                "You need to replace the `None` in the code below with other a function call or any other Python expressions. "
            ]
        },
        {
            "cell_type": "code",
            "execution_count": 293,
            "metadata": {
                "collapsed": true
            },
            "outputs": [],
            "source": [
                "# Extract the features and the target\n",
                "df_features, df_target = get_features_targets(df, ['RM', 'DIS', 'INDUS'],['MEDV'])\n",
                "\n",
                "# Split the data set into training and test\n",
                "df_features_train, df_features_test, df_target_train, df_target_test = split_data(\n",
                "    df_features, df_target)\n",
                "\n",
                "# Normalize the features using z normalization\n",
                "df_features_train_z = normalize_z(df_features_train)\n",
                "\n",
                "# Change the features and the target to numpy array using the prepare functions\n",
                "X = prepare_feature(df_features_train_z)\n",
                "target = prepare_target(df_target_train)\n",
                "\n",
                "iterations = 1500\n",
                "alpha = 0.01\n",
                "beta = np.zeros((4,1))\n",
                "\n",
                "# Call the gradient_descent function\n",
                "beta, J_storage = gradient_descent(X, target, beta, alpha, iterations)\n",
                "\n",
                "# call the predict() method\n",
                "pred = predict(df_features_test, beta)\n",
                "\n",
                "###\n",
                "### YOUR CODE HERE\n",
                "###\n"
            ]
        },
        {
            "cell_type": "code",
            "execution_count": 294,
            "metadata": {
                "collapsed": true,
                "deletable": false,
                "editable": false,
                "nbgrader": {
                    "grade": true,
                    "grade_id": "hw41",
                    "locked": true,
                    "points": "1",
                    "solution": false
                }
            },
            "outputs": [],
            "source": [
                "###\n",
                "### AUTOGRADER TEST - DO NOT REMOVE\n",
                "###\n"
            ]
        },
        {
            "cell_type": "code",
            "execution_count": 295,
            "metadata": {
                "collapsed": true,
                "deletable": false,
                "editable": false,
                "nbgrader": {
                    "grade": true,
                    "grade_id": "hw42",
                    "locked": true,
                    "points": "1",
                    "solution": false
                }
            },
            "outputs": [],
            "source": [
                "assert isinstance(pred, np.ndarray)\n",
                "assert pred.shape == (151, 1)\n",
                "assert np.isclose(pred.mean(), 22.66816)\n",
                "assert np.isclose(pred.std(), 6.67324)"
            ]
        },
        {
            "cell_type": "code",
            "execution_count": 296,
            "metadata": {
                "collapsed": true,
                "deletable": false,
                "editable": false,
                "nbgrader": {
                    "grade": true,
                    "grade_id": "hw43",
                    "locked": true,
                    "points": "1",
                    "solution": false
                }
            },
            "outputs": [],
            "source": [
                "###\n",
                "### AUTOGRADER TEST - DO NOT REMOVE\n",
                "###\n"
            ]
        },
        {
            "cell_type": "code",
            "execution_count": 297,
            "metadata": {
                "deletable": false,
                "editable": false,
                "nbgrader": {
                    "grade": false,
                    "locked": true,
                    "solution": false
                }
            },
            "outputs": [
                {
                    "data": {
                        "text/plain": [
                            "<matplotlib.collections.PathCollection at 0x1e62655c490>"
                        ]
                    },
                    "execution_count": 297,
                    "metadata": {},
                    "output_type": "execute_result"
                },
                {
                    "data": {
                        "image/png": "[encoded data removed]",
                        "text/plain": [
                            "<Figure size 432x288 with 1 Axes>"
                        ]
                    },
                    "metadata": {},
                    "output_type": "display_data"
                }
            ],
            "source": [
                "plt.scatter(df_features_test[\"RM\"], df_target_test)\n",
                "plt.scatter(df_features_test[\"RM\"], pred)"
            ]
        },
        {
            "cell_type": "code",
            "execution_count": 298,
            "metadata": {
                "deletable": false,
                "editable": false,
                "nbgrader": {
                    "grade": false,
                    "locked": true,
                    "solution": false
                }
            },
            "outputs": [
                {
                    "data": {
                        "text/plain": [
                            "<matplotlib.collections.PathCollection at 0x1e6265a1d30>"
                        ]
                    },
                    "execution_count": 298,
                    "metadata": {},
                    "output_type": "execute_result"
                },
                {
                    "data": {
                        "image/png": "[encoded data removed]",
                        "text/plain": [
                            "<Figure size 432x288 with 1 Axes>"
                        ]
                    },
                    "metadata": {},
                    "output_type": "display_data"
                }
            ],
            "source": [
                "plt.scatter(df_features_test[\"DIS\"], df_target_test)\n",
                "plt.scatter(df_features_test[\"DIS\"], pred)"
            ]
        },
        {
            "cell_type": "code",
            "execution_count": 299,
            "metadata": {
                "deletable": false,
                "editable": false,
                "nbgrader": {
                    "grade": false,
                    "locked": true,
                    "solution": false
                }
            },
            "outputs": [
                {
                    "data": {
                        "text/plain": [
                            "<matplotlib.collections.PathCollection at 0x1e626605130>"
                        ]
                    },
                    "execution_count": 299,
                    "metadata": {},
                    "output_type": "execute_result"
                },
                {
                    "data": {
                        "image/png": "[encoded data removed]",
                        "text/plain": [
                            "<Figure size 432x288 with 1 Axes>"
                        ]
                    },
                    "metadata": {},
                    "output_type": "display_data"
                }
            ],
            "source": [
                "plt.scatter(df_features_test[\"INDUS\"], df_target_test)\n",
                "plt.scatter(df_features_test[\"INDUS\"], pred)"
            ]
        },
        {
            "cell_type": "markdown",
            "metadata": {
                "deletable": false,
                "editable": false,
                "nbgrader": {
                    "grade": false,
                    "locked": true,
                    "solution": false
                }
            },
            "source": [
                "**HW5.** Calculate the coefficient of determination, $r^2$."
            ]
        },
        {
            "cell_type": "code",
            "execution_count": 300,
            "metadata": {},
            "outputs": [
                {
                    "name": "stdout",
                    "output_type": "stream",
                    "text": [
                        "0.4771347202218976\n"
                    ]
                }
            ],
            "source": [
                "# change target test set to a numpy array\n",
                "target = prepare_target(df_target_test)\n",
                "\n",
                "# Calculate r2 score by calling a function\n",
                "r2 = r2_score(target, pred)\n",
                "\n",
                "###\n",
                "### YOUR CODE HERE\n",
                "###\n",
                "\n",
                "print(r2)\n"
            ]
        },
        {
            "cell_type": "code",
            "execution_count": 301,
            "metadata": {
                "collapsed": true,
                "deletable": false,
                "editable": false,
                "nbgrader": {
                    "grade": true,
                    "grade_id": "hw51",
                    "locked": true,
                    "points": "1",
                    "solution": false
                }
            },
            "outputs": [],
            "source": [
                "assert np.isclose(r2, 0.47713)"
            ]
        },
        {
            "cell_type": "code",
            "execution_count": 302,
            "metadata": {
                "collapsed": true,
                "deletable": false,
                "editable": false,
                "nbgrader": {
                    "grade": true,
                    "grade_id": "hw52",
                    "locked": true,
                    "points": "1",
                    "solution": false
                }
            },
            "outputs": [],
            "source": [
                "###\n",
                "### AUTOGRADER TEST - DO NOT REMOVE\n",
                "###\n"
            ]
        },
        {
            "cell_type": "markdown",
            "metadata": {
                "deletable": false,
                "editable": false,
                "nbgrader": {
                    "grade": false,
                    "locked": true,
                    "solution": false
                }
            },
            "source": [
                "**HW6.** Calculate the mean squared error."
            ]
        },
        {
            "cell_type": "code",
            "execution_count": 303,
            "metadata": {},
            "outputs": [
                {
                    "name": "stdout",
                    "output_type": "stream",
                    "text": [
                        "51.36298842680594\n"
                    ]
                }
            ],
            "source": [
                "# Calculate the mse\n",
                "mse = mean_squared_error(target, pred)\n",
                "\n",
                "###\n",
                "### YOUR CODE HERE\n",
                "###\n",
                "print(mse)\n"
            ]
        },
        {
            "cell_type": "code",
            "execution_count": 304,
            "metadata": {
                "collapsed": true,
                "deletable": false,
                "editable": false,
                "nbgrader": {
                    "grade": true,
                    "grade_id": "hw61",
                    "locked": true,
                    "points": "1",
                    "solution": false
                }
            },
            "outputs": [],
            "source": [
                "assert np.isclose(mse, 51.363)"
            ]
        },
        {
            "cell_type": "code",
            "execution_count": 305,
            "metadata": {
                "collapsed": true,
                "deletable": false,
                "editable": false,
                "nbgrader": {
                    "grade": true,
                    "grade_id": "hw62",
                    "locked": true,
                    "points": "1",
                    "solution": false
                }
            },
            "outputs": [],
            "source": [
                "###\n",
                "### AUTOGRADER TEST - DO NOT REMOVE\n",
                "###\n"
            ]
        },
        {
            "cell_type": "markdown",
            "metadata": {
                "deletable": false,
                "editable": false,
                "nbgrader": {
                    "grade": false,
                    "locked": true,
                    "solution": false
                }
            },
            "source": [
                "**HW7.** *Polynomial Transformation:* Redo the steps for breast cancer data but this time we will use quadratic model. Use the following columns:\n",
                "- x data: radius_mean\n",
                "- y data: area_mean\n",
                "\n",
                "We will create a quadratic hypothesis for this x and y data. To do that write a function `transform_features(df, colname, colname_transformed)` that takes in a dataframe for the features, the original column name, and the transformed column name. The function should add another column with the name `colname_transformed` with the value of column in `colname` transformed to its quadratic value. "
            ]
        },
        {
            "cell_type": "code",
            "execution_count": 306,
            "metadata": {},
            "outputs": [
                {
                    "data": {
                        "text/plain": [
                            "<matplotlib.collections.PathCollection at 0x1e62665d160>"
                        ]
                    },
                    "execution_count": 306,
                    "metadata": {},
                    "output_type": "execute_result"
                },
                {
                    "data": {
                        "image/png": "[encoded data removed]",
                        "text/plain": [
                            "<Figure size 432x288 with 1 Axes>"
                        ]
                    },
                    "metadata": {},
                    "output_type": "display_data"
                }
            ],
            "source": [
                "# Read from breast_cancer_data.csv file\n",
                "df = pd.read_csv(\"breast_cancer_data.csv\")\n",
                "\n",
                "# Extract feature and target\n",
                "df_feature, df_target = get_features_targets(df,[\"radius_mean\"],[\"area_mean\"])\n",
                "\n",
                "###\n",
                "### YOUR CODE HERE\n",
                "###\n",
                "\n",
                "plt.scatter(df_feature, df_target)"
            ]
        },
        {
            "cell_type": "code",
            "execution_count": 307,
            "metadata": {
                "collapsed": true,
                "deletable": false,
                "editable": false,
                "nbgrader": {
                    "grade": true,
                    "grade_id": "hw71",
                    "locked": true,
                    "points": "1",
                    "solution": false
                }
            },
            "outputs": [],
            "source": [
                "###\n",
                "### AUTOGRADER TEST - DO NOT REMOVE\n",
                "###\n"
            ]
        },
        {
            "cell_type": "code",
            "execution_count": 323,
            "metadata": {
                "collapsed": true
            },
            "outputs": [],
            "source": [
                "# write your function to create a quadratic feature of x\n",
                "\n",
                "def transform_features(df_feature, colname, colname_transformed):\n",
                "    df_feature[colname_transformed] = df_feature[colname]**2  \n",
                "    ### YOUR CODE HERE\n",
                "    ###\n",
                "    return df_feature\n"
            ]
        },
        {
            "cell_type": "code",
            "execution_count": 324,
            "metadata": {
                "deletable": false,
                "editable": false,
                "nbgrader": {
                    "grade": true,
                    "grade_id": "hw72",
                    "locked": true,
                    "points": "1",
                    "solution": false
                }
            },
            "outputs": [
                {
                    "name": "stderr",
                    "output_type": "stream",
                    "text": [
                        "<ipython-input-323-c47f02807ee3>:7: SettingWithCopyWarning: \n",
                        "A value is trying to be set on a copy of a slice from a DataFrame.\n",
                        "Try using .loc[row_indexer,col_indexer] = value instead\n",
                        "\n",
                        "See the caveats in the documentation: https://pandas.pydata.org/pandas-docs/stable/user_guide/indexing.html#returning-a-view-versus-a-copy\n",
                        "  df_feature[colname_transformed] = df_feature[colname]**2  #####CHECK AGAINNNN LATERRRR\n"
                    ]
                }
            ],
            "source": [
                "df_features = transform_features(df_feature, \"radius_mean\", \"radius_mean^2\")\n",
                "\n",
                "assert (df_features.loc[:,\"radius_mean^2\"] == df_features.loc[:,\"radius_mean\"] ** 2).all()"
            ]
        },
        {
            "cell_type": "code",
            "execution_count": 325,
            "metadata": {
                "deletable": false,
                "editable": false,
                "nbgrader": {
                    "grade": true,
                    "grade_id": "hw73",
                    "locked": true,
                    "points": "1",
                    "solution": false
                }
            },
            "outputs": [],
            "source": [
                "###\n",
                "### AUTOGRADER TEST - DO NOT REMOVE\n",
                "###\n"
            ]
        },
        {
            "cell_type": "code",
            "execution_count": 326,
            "metadata": {
                "collapsed": true
            },
            "outputs": [],
            "source": [
                "# split data using random_state = 100 and 30% test size\n",
                "df_features_train, df_features_test, df_target_train, df_target_test = split_data(\n",
                "    df_feature, df_target, random_state=100, test_size=0.3)\n",
                "\n",
                "# normalize features\n",
                "df_features_train_z = normalize_z(df_features_train)\n",
                "\n",
                "# change to numpy array and append column for feature\n",
                "X = prepare_feature(df_features_train_z)\n",
                "target = prepare_target(df_target_train)\n",
                "\n",
                "iterations = 1500\n",
                "alpha = 0.01\n",
                "beta = np.zeros((3,1))\n",
                "\n",
                "# call gradient_descent() function\n",
                "beta, J_storage = gradient_descent(X, target, beta, alpha, iterations)\n",
                "\n",
                "###\n",
                "### YOUR CODE HERE\n",
                "###\n"
            ]
        },
        {
            "cell_type": "code",
            "execution_count": 327,
            "metadata": {
                "collapsed": true,
                "deletable": false,
                "editable": false,
                "nbgrader": {
                    "grade": true,
                    "grade_id": "hw74",
                    "locked": true,
                    "points": "1",
                    "solution": false
                }
            },
            "outputs": [],
            "source": [
                "###\n",
                "### AUTOGRADER TEST - DO NOT REMOVE\n",
                "###\n"
            ]
        },
        {
            "cell_type": "code",
            "execution_count": 328,
            "metadata": {
                "collapsed": true,
                "deletable": false,
                "editable": false,
                "nbgrader": {
                    "grade": true,
                    "grade_id": "hw75",
                    "locked": true,
                    "points": "1",
                    "solution": false
                }
            },
            "outputs": [],
            "source": [
                "\n",
                "assert np.isclose(beta[0], 646.0787)\n",
                "assert np.isclose(beta[1], 146.4801)\n",
                "assert np.isclose(beta[2], 201.9803)"
            ]
        },
        {
            "cell_type": "code",
            "execution_count": 329,
            "metadata": {
                "collapsed": true,
                "deletable": false,
                "editable": false,
                "nbgrader": {
                    "grade": true,
                    "grade_id": "hw76",
                    "locked": true,
                    "points": "1",
                    "solution": false
                }
            },
            "outputs": [],
            "source": [
                "###\n",
                "### AUTOGRADER TEST - DO NOT REMOVE\n",
                "###\n"
            ]
        },
        {
            "cell_type": "code",
            "execution_count": 330,
            "metadata": {
                "deletable": false,
                "editable": false,
                "nbgrader": {
                    "grade": false,
                    "locked": true,
                    "solution": false
                }
            },
            "outputs": [
                {
                    "data": {
                        "text/plain": [
                            "[<matplotlib.lines.Line2D at 0x1e6266b71f0>]"
                        ]
                    },
                    "execution_count": 330,
                    "metadata": {},
                    "output_type": "execute_result"
                },
                {
                    "data": {
                        "image/png": "[encoded data removed]",
                        "text/plain": [
                            "<Figure size 432x288 with 1 Axes>"
                        ]
                    },
                    "metadata": {},
                    "output_type": "display_data"
                }
            ],
            "source": [
                "plt.plot(J_storage)"
            ]
        },
        {
            "cell_type": "code",
            "execution_count": 331,
            "metadata": {
                "collapsed": true
            },
            "outputs": [],
            "source": [
                "# change target to numpy array\n",
                "beta = np.array([[646.0787641 ], [146.4800792 ], [201.98031254]])\n",
                "\n",
                "target = prepare_target(df_target_test)\n",
                "pred = predict(df_features_test, beta)\n",
                "\n",
                "# get predicted values\n",
                "###\n",
                "### YOUR CODE HERE\n",
                "###\n"
            ]
        },
        {
            "cell_type": "code",
            "execution_count": 332,
            "metadata": {
                "collapsed": true,
                "deletable": false,
                "editable": false,
                "nbgrader": {
                    "grade": true,
                    "grade_id": "hw77",
                    "locked": true,
                    "points": "1",
                    "solution": false
                }
            },
            "outputs": [],
            "source": [
                "###\n",
                "### AUTOGRADER TEST - DO NOT REMOVE\n",
                "###\n"
            ]
        },
        {
            "cell_type": "code",
            "execution_count": 333,
            "metadata": {
                "deletable": false,
                "editable": false,
                "nbgrader": {
                    "grade": false,
                    "locked": true,
                    "solution": false
                }
            },
            "outputs": [
                {
                    "data": {
                        "text/plain": [
                            "<matplotlib.collections.PathCollection at 0x1e6266f1a60>"
                        ]
                    },
                    "execution_count": 333,
                    "metadata": {},
                    "output_type": "execute_result"
                },
                {
                    "data": {
                        "image/png": "[encoded data removed]",
                        "text/plain": [
                            "<Figure size 432x288 with 1 Axes>"
                        ]
                    },
                    "metadata": {},
                    "output_type": "display_data"
                }
            ],
            "source": [
                "plt.scatter(df_features_test[\"radius_mean\"], target)\n",
                "plt.scatter(df_features_test[\"radius_mean\"], pred)"
            ]
        },
        {
            "cell_type": "code",
            "execution_count": 334,
            "metadata": {
                "deletable": false,
                "editable": false,
                "nbgrader": {
                    "grade": true,
                    "grade_id": "hw78",
                    "locked": true,
                    "points": "1",
                    "solution": false
                }
            },
            "outputs": [
                {
                    "name": "stdout",
                    "output_type": "stream",
                    "text": [
                        "area_mean    0.985095\n",
                        "dtype: float64\n"
                    ]
                }
            ],
            "source": [
                "r2 = r2_score(df_target_test, pred)\n",
                "print(r2)\n",
                "assert np.isclose(r2, 0.985095)"
            ]
        },
        {
            "cell_type": "code",
            "execution_count": 335,
            "metadata": {
                "collapsed": true,
                "deletable": false,
                "editable": false,
                "nbgrader": {
                    "grade": true,
                    "grade_id": "hw79",
                    "locked": true,
                    "points": "1",
                    "solution": false
                }
            },
            "outputs": [],
            "source": [
                "###\n",
                "### AUTOGRADER TEST - DO NOT REMOVE\n",
                "###\n"
            ]
        },
        {
            "cell_type": "code",
            "execution_count": 248,
            "metadata": {
                "deletable": false,
                "editable": false,
                "nbgrader": {
                    "grade": true,
                    "grade_id": "hw710",
                    "locked": true,
                    "points": "1",
                    "solution": false
                }
            },
            "outputs": [
                {
                    "name": "stdout",
                    "output_type": "stream",
                    "text": [
                        "area_mean    1919.164\n",
                        "dtype: float64\n"
                    ]
                }
            ],
            "source": [
                "mse = mean_squared_error(df_target_test, pred)\n",
                "print(mse)\n",
                "assert np.isclose(mse, 1919.164)"
            ]
        },
        {
            "cell_type": "code",
            "execution_count": 249,
            "metadata": {
                "collapsed": true,
                "deletable": false,
                "editable": false,
                "nbgrader": {
                    "grade": true,
                    "grade_id": "hw711",
                    "locked": true,
                    "points": "1",
                    "solution": false
                }
            },
            "outputs": [],
            "source": [
                "###\n",
                "### AUTOGRADER TEST - DO NOT REMOVE\n",
                "###\n"
            ]
        },
        {
            "cell_type": "markdown",
            "metadata": {
                "deletable": false,
                "editable": false,
                "nbgrader": {
                    "grade": false,
                    "locked": true,
                    "solution": false
                }
            },
            "source": [
                "**HW8.** *Optional:* Redo the above tasks using Sci-kit learn libraries. You will need to use the following:\n",
                "- [LinearRegression](https://scikit-learn.org/stable/modules/generated/sklearn.linear_model.LinearRegression.html)\n",
                "- [train_test_split](https://scikit-learn.org/stable/modules/generated/sklearn.model_selection.train_test_split.html)\n",
                "- [r2_score](https://scikit-learn.org/stable/modules/generated/sklearn.metrics.r2_score.html)\n",
                "- [mean_squared_error](https://scikit-learn.org/stable/modules/generated/sklearn.metrics.mean_squared_error.html)\n",
                "- [PolynomialFeatures](https://scikit-learn.org/stable/modules/generated/sklearn.preprocessing.PolynomialFeatures.html)"
            ]
        },
        {
            "cell_type": "code",
            "execution_count": 250,
            "metadata": {
                "collapsed": true,
                "deletable": false,
                "editable": false,
                "nbgrader": {
                    "grade": false,
                    "locked": true,
                    "solution": false
                }
            },
            "outputs": [],
            "source": [
                "from sklearn.linear_model import LinearRegression\n",
                "from sklearn.model_selection import train_test_split\n",
                "from sklearn.metrics import r2_score, mean_squared_error\n",
                "from sklearn.preprocessing import PolynomialFeatures"
            ]
        },
        {
            "cell_type": "markdown",
            "metadata": {
                "deletable": false,
                "editable": false,
                "nbgrader": {
                    "grade": false,
                    "locked": true,
                    "solution": false
                }
            },
            "source": [
                "**Redo HW 4 using Scikit Learn**"
            ]
        },
        {
            "cell_type": "code",
            "execution_count": 251,
            "metadata": {
                "collapsed": true
            },
            "outputs": [],
            "source": [
                "# Read the housing_processed.csv file\n",
                "df = pd.read_csv(\"housing_processed.csv\")\n",
                "\n",
                "# extract the features from [\"RM\", \"DIS\", \"INDUS\"] and target from []\"MEDV\"]\n",
                "df_features, df_target = get_features_targets(df, ['RM', 'DIS', 'INDUS'],['MEDV'])\n",
                "# normalize\n",
                "df_features = normalize_z(df_features)\n",
                "\n",
                "###\n",
                "### YOUR CODE HERE\n",
                "###\n"
            ]
        },
        {
            "cell_type": "code",
            "execution_count": 252,
            "metadata": {},
            "outputs": [
                {
                    "name": "stdout",
                    "output_type": "stream",
                    "text": [
                        "[[ 5.01417104 -1.00878266 -3.27301726]] [22.45962454]\n"
                    ]
                }
            ],
            "source": [
                "# Split the data into training and test data set using scikit-learn function\n",
                "df_features_train, df_features_test, df_target_train, df_target_test = train_test_split(\n",
                "    df_features, df_target, random_state=100, test_size=0.3)\n",
                "\n",
                "# Instantiate LinearRegression() object\n",
                "model = LinearRegression()\n",
                "# Call the fit() method\n",
                "model.fit(df_features_train, df_target_train)\n",
                "pass\n",
                "\n",
                "###\n",
                "### YOUR CODE HERE\n",
                "###\n",
                "print(model.coef_, model.intercept_)\n",
                "assert np.isclose(model.coef_, [ 5.01417104, -1.00878266, -3.27301726]).all()\n",
                "assert np.isclose(model.intercept_, 22.45962454)"
            ]
        },
        {
            "cell_type": "code",
            "execution_count": 253,
            "metadata": {
                "collapsed": true
            },
            "outputs": [],
            "source": [
                "# Call the predict() method\n",
                "pred = model.predict(df_features_test)\n",
                "\n",
                "###\n",
                "### YOUR CODE HERE\n",
                "###\n"
            ]
        },
        {
            "cell_type": "code",
            "execution_count": 254,
            "metadata": {
                "deletable": false,
                "editable": false,
                "nbgrader": {
                    "grade": false,
                    "locked": true,
                    "solution": false
                }
            },
            "outputs": [
                {
                    "data": {
                        "text/plain": [
                            "<matplotlib.collections.PathCollection at 0x1e625236a60>"
                        ]
                    },
                    "execution_count": 254,
                    "metadata": {},
                    "output_type": "execute_result"
                },
                {
                    "data": {
                        "image/png": "[encoded data removed]",
                        "text/plain": [
                            "<Figure size 432x288 with 1 Axes>"
                        ]
                    },
                    "metadata": {},
                    "output_type": "display_data"
                }
            ],
            "source": [
                "plt.scatter(df_features_test[\"RM\"], df_target_test)\n",
                "plt.scatter(df_features_test[\"RM\"], pred)"
            ]
        },
        {
            "cell_type": "code",
            "execution_count": 255,
            "metadata": {
                "deletable": false,
                "editable": false,
                "nbgrader": {
                    "grade": false,
                    "locked": true,
                    "solution": false
                }
            },
            "outputs": [
                {
                    "data": {
                        "text/plain": [
                            "<matplotlib.collections.PathCollection at 0x1e625298310>"
                        ]
                    },
                    "execution_count": 255,
                    "metadata": {},
                    "output_type": "execute_result"
                },
                {
                    "data": {
                        "image/png": "[encoded data removed]",
                        "text/plain": [
                            "<Figure size 432x288 with 1 Axes>"
                        ]
                    },
                    "metadata": {},
                    "output_type": "display_data"
                }
            ],
            "source": [
                "plt.scatter(df_features_test[\"DIS\"], df_target_test)\n",
                "plt.scatter(df_features_test[\"DIS\"], pred)"
            ]
        },
        {
            "cell_type": "code",
            "execution_count": 256,
            "metadata": {
                "deletable": false,
                "editable": false,
                "nbgrader": {
                    "grade": false,
                    "locked": true,
                    "solution": false
                }
            },
            "outputs": [
                {
                    "data": {
                        "text/plain": [
                            "<matplotlib.collections.PathCollection at 0x1e6252e7850>"
                        ]
                    },
                    "execution_count": 256,
                    "metadata": {},
                    "output_type": "execute_result"
                },
                {
                    "data": {
                        "image/png": "[encoded data removed]",
                        "text/plain": [
                            "<Figure size 432x288 with 1 Axes>"
                        ]
                    },
                    "metadata": {},
                    "output_type": "display_data"
                }
            ],
            "source": [
                "plt.scatter(df_features_test[\"INDUS\"], df_target_test)\n",
                "plt.scatter(df_features_test[\"INDUS\"], pred)"
            ]
        },
        {
            "cell_type": "code",
            "execution_count": 257,
            "metadata": {
                "deletable": false,
                "editable": false,
                "nbgrader": {
                    "grade": false,
                    "locked": true,
                    "solution": false
                }
            },
            "outputs": [
                {
                    "name": "stdout",
                    "output_type": "stream",
                    "text": [
                        "0.4825044614020386\n"
                    ]
                }
            ],
            "source": [
                "r2 = r2_score(df_target_test, pred)\n",
                "print(r2)\n",
                "assert np.isclose(r2, 0.48250)"
            ]
        },
        {
            "cell_type": "code",
            "execution_count": 258,
            "metadata": {
                "deletable": false,
                "editable": false,
                "nbgrader": {
                    "grade": false,
                    "locked": true,
                    "solution": false
                }
            },
            "outputs": [
                {
                    "name": "stdout",
                    "output_type": "stream",
                    "text": [
                        "52.41451054054569\n"
                    ]
                }
            ],
            "source": [
                "mse = mean_squared_error(df_target_test, pred)\n",
                "print(mse)\n",
                "assert np.isclose(mse, 52.41451)"
            ]
        },
        {
            "cell_type": "markdown",
            "metadata": {
                "deletable": false,
                "editable": false,
                "nbgrader": {
                    "grade": false,
                    "locked": true,
                    "solution": false
                }
            },
            "source": [
                "**Redo HW7 Using Scikit Learn**"
            ]
        },
        {
            "cell_type": "code",
            "execution_count": 259,
            "metadata": {
                "collapsed": true
            },
            "outputs": [],
            "source": [
                "# Read the file breast_cancer_data.csv\n",
                "df = pd.read_csv(\"breast_cancer_data.csv\")\n",
                "# extract feature from \"radius_mean\" and target from \"area_mean\"\n",
                "df_feature, df_target = get_features_targets(df, [\"radius_mean\"],[\"area_mean\"])\n",
                "\n",
                "###\n",
                "### YOUR CODE HERE\n",
                "###\n"
            ]
        },
        {
            "cell_type": "code",
            "execution_count": 260,
            "metadata": {},
            "outputs": [
                {
                    "name": "stdout",
                    "output_type": "stream",
                    "text": [
                        "[[0.         3.69735512 2.9925278 ]] [-32.3684598]\n"
                    ]
                }
            ],
            "source": [
                "# instantiate a PolynomialFeatures object with degree = 2\n",
                "poly = None\n",
                "\n",
                "# call its fit_transform() method\n",
                "df_features = None\n",
                "\n",
                "# call train_test_split() to split the data\n",
                "df_features_train, df_features_test, df_target_train, df_target_test = None, None, None, None\n",
                "\n",
                "# instantiate LinearRegression() object\n",
                "model = None\n",
                "\n",
                "# call its fit() method\n",
                "pass\n",
                "\n",
                "\n",
                "### BEGIN SOLUTON\n",
                "poly = PolynomialFeatures(2)\n",
                "df_features = poly.fit_transform(df_feature)\n",
                "df_features_train, df_features_test, df_target_train, df_target_test = train_test_split(df_features, df_target, random_state=100, test_size=0.3)\n",
                "model = LinearRegression()\n",
                "model.fit(df_features_train, df_target_train)\n",
                "### END SOLUTION\n",
                "print(model.coef_, model.intercept_)\n",
                "assert np.isclose(model.coef_, [0., 3.69735512, 2.9925278 ]).all()\n",
                "assert np.isclose(model.intercept_, -32.3684598)"
            ]
        },
        {
            "cell_type": "code",
            "execution_count": 261,
            "metadata": {},
            "outputs": [
                {
                    "name": "stdout",
                    "output_type": "stream",
                    "text": [
                        "<class 'numpy.ndarray'> 672.5084652255059 351.50270599246096\n"
                    ]
                }
            ],
            "source": [
                "# Call the predict() method\n",
                "pred = model.predict(df_features_test)\n",
                "\n",
                "###\n",
                "### YOUR CODE HERE\n",
                "###\n",
                "\n",
                "print(type(pred), pred.mean(), pred.std())\n",
                "assert isinstance(pred, np.ndarray)\n",
                "assert np.isclose(pred.mean(), 672.508465)\n",
                "assert np.isclose(pred.std(), 351.50271)"
            ]
        },
        {
            "cell_type": "code",
            "execution_count": 262,
            "metadata": {
                "deletable": false,
                "editable": false,
                "nbgrader": {
                    "grade": false,
                    "locked": true,
                    "solution": false
                }
            },
            "outputs": [
                {
                    "data": {
                        "text/plain": [
                            "<matplotlib.collections.PathCollection at 0x1e62534d430>"
                        ]
                    },
                    "execution_count": 262,
                    "metadata": {},
                    "output_type": "execute_result"
                },
                {
                    "data": {
                        "image/png": "[encoded data removed]",
                        "text/plain": [
                            "<Figure size 432x288 with 1 Axes>"
                        ]
                    },
                    "metadata": {},
                    "output_type": "display_data"
                }
            ],
            "source": [
                "plt.scatter(df_features_test[:,1], df_target_test)\n",
                "plt.scatter(df_features_test[:,1], pred)"
            ]
        },
        {
            "cell_type": "code",
            "execution_count": 263,
            "metadata": {
                "deletable": false,
                "editable": false,
                "nbgrader": {
                    "grade": false,
                    "locked": true,
                    "solution": false
                }
            },
            "outputs": [
                {
                    "name": "stdout",
                    "output_type": "stream",
                    "text": [
                        "0.997293116020538\n"
                    ]
                }
            ],
            "source": [
                "r2 = r2_score(df_target_test, pred)\n",
                "print(r2)\n",
                "assert np.isclose(r2, 0.99729)"
            ]
        },
        {
            "cell_type": "code",
            "execution_count": 264,
            "metadata": {
                "deletable": false,
                "editable": false,
                "nbgrader": {
                    "grade": false,
                    "locked": true,
                    "solution": false
                }
            },
            "outputs": [
                {
                    "name": "stdout",
                    "output_type": "stream",
                    "text": [
                        "346.79478986089975\n"
                    ]
                }
            ],
            "source": [
                "mse = mean_squared_error(df_target_test, pred)\n",
                "print(mse)\n",
                "assert np.isclose(mse, 346.79479)"
            ]
        }
    ],
    "metadata": {
        "kernelspec": {
            "display_name": "Python 3 [3.7]",
            "language": "python",
            "name": "python3"
        },
        "language_info": {
            "codemirror_mode": {
                "name": "ipython",
                "version": 3
            },
            "file_extension": ".py",
            "mimetype": "text/x-python",
            "name": "python",
            "nbconvert_exporter": "python",
            "pygments_lexer": "ipython3",
            "version": "3.8.8"
        }
    },
    "nbformat": 4,
    "nbformat_minor": 4
}
