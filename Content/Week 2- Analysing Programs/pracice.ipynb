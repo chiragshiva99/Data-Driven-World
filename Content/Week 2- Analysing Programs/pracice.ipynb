{
 "cells": [
  {
   "cell_type": "code",
   "execution_count": 15,
   "source": [
    "def swap(array, i, j):\r\n",
    "    array[i], array[j] = array[j], array[i]"
   ],
   "outputs": [],
   "metadata": {}
  },
  {
   "cell_type": "code",
   "execution_count": 16,
   "source": [
    "def max_heapify(array, i, upper):\r\n",
    "    while (True):\r\n",
    "        l, r = (i*2 + 1), (i*2 +2)\r\n",
    "        if max(l, r) < upper :\r\n",
    "            if array[i] >= max (array[l], array[r]): break\r\n",
    "            elif array[l]> array[r]:\r\n",
    "                swap(array, i, l)\r\n",
    "                i = l\r\n",
    "            else:\r\n",
    "                swap(array, i, r)\r\n",
    "                i = r\r\n",
    "        elif l < upper :\r\n",
    "            if array[l] > array[i]:\r\n",
    "                swap(array, i, l)\r\n",
    "                i = l\r\n",
    "            else: break\r\n",
    "        elif r < upper :\r\n",
    "            if array[r] > array[i]:\r\n",
    "                swap(array, i, r)\r\n",
    "                i = r\r\n",
    "            else: break\r\n",
    "        else: break"
   ],
   "outputs": [],
   "metadata": {}
  },
  {
   "cell_type": "code",
   "execution_count": 17,
   "source": [
    "def heapsort(array):\r\n",
    "    for j in range ((len(array)-2), -1, -1):\r\n",
    "        max_heapify(array, j, len(array))\r\n",
    "\r\n",
    "    for end in range(len(array)-1, 0, -1):\r\n",
    "        swap(array, 0, end)\r\n",
    "        max_heapify(array, 0, end)"
   ],
   "outputs": [],
   "metadata": {}
  },
  {
   "cell_type": "code",
   "execution_count": 18,
   "source": [
    "array = [1,-5,2,7,4,24,6,4,5,6644,5,43,34,4,5,67,5,5,5,45543,6]\r\n",
    "heapsort(array)\r\n",
    "print(array)"
   ],
   "outputs": [
    {
     "output_type": "stream",
     "name": "stdout",
     "text": [
      "[-5, 1, 2, 4, 4, 4, 5, 5, 5, 5, 5, 5, 6, 6, 7, 24, 34, 43, 67, 6644, 45543]\n"
     ]
    }
   ],
   "metadata": {}
  },
  {
   "cell_type": "code",
   "execution_count": 35,
   "source": [
    "for i in range(5,-1,-1):\r\n",
    "    print(i)"
   ],
   "outputs": [
    {
     "output_type": "stream",
     "name": "stdout",
     "text": [
      "5\n",
      "4\n",
      "3\n",
      "2\n",
      "1\n",
      "0\n"
     ]
    }
   ],
   "metadata": {}
  },
  {
   "cell_type": "code",
   "execution_count": 2,
   "source": [
    "maxheap = [1,2,43,4,5,4,3,2,23,3]\r\n",
    "print(len(maxheap))"
   ],
   "outputs": [
    {
     "output_type": "stream",
     "name": "stdout",
     "text": [
      "10\n"
     ]
    }
   ],
   "metadata": {}
  },
  {
   "cell_type": "code",
   "execution_count": 8,
   "source": [],
   "outputs": [
    {
     "output_type": "stream",
     "name": "stdout",
     "text": [
      "[4, 0, 5, 9, 3, 1, 6, 8, 7, 2]\n"
     ]
    }
   ],
   "metadata": {}
  }
 ],
 "metadata": {
  "orig_nbformat": 4,
  "language_info": {
   "name": "python",
   "version": "3.9.7",
   "mimetype": "text/x-python",
   "codemirror_mode": {
    "name": "ipython",
    "version": 3
   },
   "pygments_lexer": "ipython3",
   "nbconvert_exporter": "python",
   "file_extension": ".py"
  },
  "kernelspec": {
   "name": "python3",
   "display_name": "Python 3.9.7 64-bit (windows store)"
  },
  "interpreter": {
   "hash": "51eabe67b9fcba34aa9b730a9906da35591090736f9cefdd50c42f446e21cc77"
  }
 },
 "nbformat": 4,
 "nbformat_minor": 2
}