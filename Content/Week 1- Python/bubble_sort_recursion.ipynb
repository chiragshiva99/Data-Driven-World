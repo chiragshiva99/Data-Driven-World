{
 "cells": [
  {
   "cell_type": "code",
   "execution_count": 2,
   "metadata": {},
   "outputs": [
    {
     "name": "stdout",
     "output_type": "stream",
     "text": [
      "11, 12, 22, 25, 34, 64, 90\n"
     ]
    }
   ],
   "source": [
    "class bubbleSort:\n",
    "    \"\"\"\n",
    "     bubbleSort:\n",
    "          function:\n",
    "              bubbleSortRecursive : recursive\n",
    "                  function to sort array\n",
    "              __str__ : format print of array\n",
    "              __init__ : constructor\n",
    "                  function in python\n",
    "          variables:\n",
    "              self.array = contains array\n",
    "              self.length = length of array\n",
    "    \"\"\"\n",
    "    def __init__(self, array):\n",
    "        self.array = array\n",
    "        self.length = len(array)\n",
    "\n",
    "    def __str__(self):\n",
    "        return \", \".join(str(x) for x in self.array)\n",
    "\n",
    "    def bubbleSortRecursive(self, n=None):\n",
    "        if n == None:\n",
    "            n = self.length\n",
    "\n",
    "        # Base case\n",
    "        if n == 1:\n",
    "            return\n",
    "\n",
    "        # One pass of bubble sort. After\n",
    "        # this pass, the largest element\n",
    "        # is moved (or bubbled) to end.\n",
    "        for i in range(0, n - 1, 1):\n",
    "            if self.array[i] > self.array[i + 1]:\n",
    "                self.array[i], self.array[i + 1] = self.array[i + 1], self.array[i]\n",
    "\n",
    "        # Largest element is fixed,\n",
    "        #  recur for remaining array\n",
    "        self.bubbleSortRecursive(n - 1)\n",
    "\n",
    "\n",
    "# Driver Code\n",
    "\n",
    "array = [64, 34, 25, 12, 22, 11, 90]\n",
    "\n",
    "    # Creating object for class\n",
    "sort = bubbleSort(array)\n",
    "\n",
    "    # Sorting array\n",
    "sort.bubbleSortRecursive()\n",
    "print(sort)\n",
    "\n",
    "\n"
   ]
  },
  {
   "cell_type": "code",
   "execution_count": 2,
   "metadata": {},
   "outputs": [
    {
     "name": "stdout",
     "output_type": "stream",
     "text": [
      "[2, 5, 10, 12, 15, 44, ]"
     ]
    }
   ],
   "source": [
    "def bubbleSortStack(a, n):\n",
    "    s1 = []\n",
    "\n",
    "    # Push all elements of array in 1st stack\n",
    "    for i in range(n):\n",
    "        s1.append(a[i])\n",
    "    s2 = []\n",
    "    for i in range(n):\n",
    "        if (i % 2 == 0):\n",
    "            while (len(s1) != 0):\n",
    "                t = s1[-1]\n",
    "                s1.pop()\n",
    "                if (len(s2) == 0):\n",
    "                    s2.append(t)\n",
    "                else:\n",
    "\n",
    "                    # Swapping\n",
    "                    if (s2[-1] > t):\n",
    "                        temp = s2[-1]\n",
    "                        s2.pop()\n",
    "                        s2.append(t)\n",
    "                        s2.append(temp)\n",
    "\n",
    "                    else:\n",
    "                        s2.append(t)\n",
    "\n",
    "            # Tricky step\n",
    "            a[n - 1 - i] = s2[-1]\n",
    "            s2.pop()\n",
    "        else:\n",
    "\n",
    "            while (len(s2) != 0):\n",
    "                t = s2[-1]\n",
    "                s2.pop()\n",
    "\n",
    "                if (len(s1) == 0):\n",
    "                    s1.append(t)\n",
    "                else:\n",
    "                    if (s1[-1] > t):\n",
    "                        temp = s1[-1]\n",
    "                        s1.pop()\n",
    "\n",
    "                        s1.append(t)\n",
    "                        s1.append(temp)\n",
    "                    else:\n",
    "                        s1.append(t)\n",
    "\n",
    "            # Tricky step\n",
    "            a[n - 1 - i] = s1[-1]\n",
    "            s1.pop()\n",
    "    print(\"[\", end='')\n",
    "    for i in range(n):\n",
    "        print(a[i], end=', ')\n",
    "    print(']', end='')\n",
    "\n",
    "\n",
    "# Driver code\n",
    "if __name__ == '__main__':\n",
    "\n",
    "    a = [15, 12, 44, 2, 5, 10]\n",
    "    n = len(a)\n",
    "\n",
    "    bubbleSortStack(a, n)\n"
   ]
  },
  {
   "cell_type": "code",
   "execution_count": 9,
   "metadata": {},
   "outputs": [
    {
     "name": "stdout",
     "output_type": "stream",
     "text": [
      "[9, 8, 5, 4, 3, 1, -2]\n"
     ]
    }
   ],
   "source": [
    "# Utility function to swap values at two indices in the list\n",
    "def swap(A, i, j):\n",
    "    A[i], A[j] = A[j], A[i]\n",
    "\n",
    "\n",
    "# Recursive function to perform bubble sort on sublist `A[i…n]`\n",
    "def bubbleSort(A, n):\n",
    "\n",
    "    for i in range(n - 1):\n",
    "        if A[i] < A[i + 1]:\n",
    "            swap(A, i, i + 1)\n",
    "\n",
    "    if n - 1 > 1:\n",
    "        bubbleSort(A, n - 1)\n",
    "\n",
    "\n",
    "A = [ 3, 5, 8, 4, 1, 9, -2 ]\n",
    "bubbleSort(A, len(A))\n",
    "# print the sorted list\n",
    "print(A)"
   ]
  },
  {
   "cell_type": "code",
   "execution_count": 4,
   "metadata": {},
   "outputs": [
    {
     "name": "stdout",
     "output_type": "stream",
     "text": [
      "[1, 2, 3]\n"
     ]
    }
   ],
   "source": [
    "a = [1,2,3,4]\n",
    "print(a[:-1])"
   ]
  }
 ],
 "metadata": {
  "interpreter": {
   "hash": "1950b42f595e65911162d8261c0e2386a7fc994eedaa7fcd280381dcee231f25"
  },
  "kernelspec": {
   "display_name": "Python 3.8.8 64-bit ('base': conda)",
   "name": "python3"
  },
  "language_info": {
   "codemirror_mode": {
    "name": "ipython",
    "version": 3
   },
   "file_extension": ".py",
   "mimetype": "text/x-python",
   "name": "python",
   "nbconvert_exporter": "python",
   "pygments_lexer": "ipython3",
   "version": "3.8.8"
  },
  "orig_nbformat": 4
 },
 "nbformat": 4,
 "nbformat_minor": 2
}
