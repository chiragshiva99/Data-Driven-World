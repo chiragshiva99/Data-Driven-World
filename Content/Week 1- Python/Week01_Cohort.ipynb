{
 "cells": [
  {
   "cell_type": "markdown",
   "metadata": {
    "colab_type": "text",
    "id": "Y66rHK3-FB9T"
   },
   "source": [
    "# Week 1 Problem Set\n",
    "\n",
    "## Cohort Problems\n",
    "\n",
    "**CS0.** Implement factorial problem using iteration. The function should takes in an Integer input and returns and Integer output which is the factorial of the input. Recall that:\n",
    "\n",
    "$n! = n \\times (n-1) \\times (n-2) \\times \\ldots \\times 2 \\times 1$\n",
    "\n",
    "You should consider the case when $n$ is zero and one as well. "
   ]
  },
  {
   "cell_type": "code",
   "execution_count": 12,
   "metadata": {},
   "outputs": [],
   "source": [
    "# iteration\n",
    "def factorial_iteration(n):\n",
    "    if (n<0):\n",
    "        return \"error\"\n",
    "    result = 1\n",
    "    for i in range(n):\n",
    "        result *= i+1   \n",
    "    return result "
   ]
  },
  {
   "cell_type": "code",
   "execution_count": 13,
   "metadata": {},
   "outputs": [],
   "source": [
    "assert factorial_iteration(0) == 1\n",
    "assert factorial_iteration(1) == 1\n",
    "assert factorial_iteration(5) == 120\n",
    "assert factorial_iteration(7) == 5040\n",
    "assert factorial_iteration(11) == 39916800"
   ]
  },
  {
   "cell_type": "markdown",
   "metadata": {},
   "source": [
    "\n",
    "**CS1.** Create a function that implements **Bubble Sort version 1** (from your Notes) to sort an array of integers. The function should sort the input array in place. Refer to [Bubble Sort and Insertion Sort](https://github.com/Data-Driven-World/d2w_notes/blob/master/BubbleSort_InsertionSort.ipynb) for the pseudocode. "
   ]
  },
  {
   "cell_type": "code",
   "execution_count": 14,
   "metadata": {
    "colab": {
     "base_uri": "https://localhost:8080/",
     "height": 34
    },
    "colab_type": "code",
    "executionInfo": {
     "elapsed": 794,
     "status": "ok",
     "timestamp": 1572597283734,
     "user": {
      "displayName": "Oka Kurniawan",
      "photoUrl": "https://lh3.googleusercontent.com/a-/AAuE7mAnRP7A15yGfrraUO-0BiNVbNmYjI2f9jaZikjr=s64",
      "userId": "05233922875329103764"
     },
     "user_tz": -480
    },
    "id": "wopWPARtFA_Y",
    "outputId": "b3361c5f-3047-48f5-8c24-2f15e39c0f8b"
   },
   "outputs": [],
   "source": [
    "def bubble_sort(array):\n",
    "    n = len(array)\n",
    "    for i in range(1, n):\n",
    "        if (array[i] < array[i-1]):\n",
    "            #swap\n",
    "            array[i], array[i-1] = array[i-1], array[i] \n",
    "    pass  \n"
   ]
  },
  {
   "cell_type": "code",
   "execution_count": 3,
   "metadata": {},
   "outputs": [
    {
     "name": "stdout",
     "output_type": "stream",
     "text": [
      "[-39, 0, 1, 3, 8, 10, 47]\n"
     ]
    }
   ],
   "source": [
    "def bubble_sort(array):\n",
    "    n = len(array)\n",
    "    for i in range(1, n):\n",
    "        for i in range(1, n):\n",
    "            if (array[i] < array[i-1]):\n",
    "                #swap\n",
    "                array[i], array[i-1] = array[i-1], array[i] \n",
    "    pass \n",
    "\n",
    "\n",
    "array = [10,47,3,8,1,0,-39]\n",
    "bubble_sort(array)\n",
    "print(array)\n",
    "x = 5 \n",
    "y = 6\n",
    "\n",
    "assert array == [-39,  0, 1, 3, 8, 10, 47]"
   ]
  },
  {
   "cell_type": "markdown",
   "metadata": {
    "colab_type": "text",
    "id": "5vP5FMfnGmmZ"
   },
   "source": [
    "**CS2.** Modify CS1, so that it returns  the number of comparisons that are performed.\n",
    "\n",
    "Hint: To count the number of comparisons, you can create an integer variable which you *increment* just before the `if` statement. "
   ]
  },
  {
   "cell_type": "code",
   "execution_count": 19,
   "metadata": {},
   "outputs": [
    {
     "name": "stdout",
     "output_type": "stream",
     "text": [
      "[-39, -5, 0, 1, 3, 4, 6, 7, 8, 8] 9 0\n"
     ]
    }
   ],
   "source": [
    "def bubble_sort(array):\n",
    "    comparison_count = 0\n",
    "    swap_count = 0\n",
    "    n = len(array)\n",
    "    for i in range(1, n):\n",
    "        # reset swap count\n",
    "        swap_count = 0\n",
    "        # sweep one time \n",
    "        for i in range(1, n):\n",
    "            comparison_count += 1\n",
    "            if (array[i] < array[i-1]):\n",
    "                swap_count += 1\n",
    "                #swap\n",
    "                array[i], array[i-1] = array[i-1], array[i]\n",
    "        if (swap_count == 0):\n",
    "            break\n",
    "\n",
    "    return comparison_count, swap_count \n",
    "\n",
    "array = [-39, -5, 0, 1, 3, 4, 6, 7, 8, 8, z]\n",
    "comparison_count, swap_count = bubble_sort(array)\n",
    "print(array, comparison_count, swap_count)\n",
    "assert array == [-39, -5, 0, 1, 3, 4, 6, 7, 8, 8, 10, 47]\n"
   ]
  },
  {
   "cell_type": "markdown",
   "metadata": {
    "colab_type": "text",
    "id": "HeIsZoTTG52T"
   },
   "source": [
    "**CS3.** Create a function that implements **Insertion Sort** to sort an array of floats. The function should sort the input array in place. Refer to [Bubble Sort and Insertion Sort](https://github.com/Data-Driven-World/d2w_notes/blob/master/BubbleSort_InsertionSort.ipynb) for the pseudocode."
   ]
  },
  {
   "cell_type": "code",
   "execution_count": 24,
   "metadata": {
    "colab": {
     "base_uri": "https://localhost:8080/",
     "height": 34
    },
    "colab_type": "code",
    "executionInfo": {
     "elapsed": 1003,
     "status": "ok",
     "timestamp": 1572597569741,
     "user": {
      "displayName": "Oka Kurniawan",
      "photoUrl": "https://lh3.googleusercontent.com/a-/AAuE7mAnRP7A15yGfrraUO-0BiNVbNmYjI2f9jaZikjr=s64",
      "userId": "05233922875329103764"
     },
     "user_tz": -480
    },
    "id": "cj8Uq4WZHHCB",
    "outputId": "4c2de48b-eae8-4244-f950-f62c3ed50268"
   },
   "outputs": [],
   "source": [
    "def insertion_sort(array):\n",
    "    for i in range(1, len(array)):\n",
    "        # compare to the left\n",
    "        current_pos = i\n",
    "        while (array[current_pos] < array[current_pos-1]):\n",
    "            # swap\n",
    "            array[current_pos], array[current_pos-1] = array[current_pos-1], array[current_pos]\n",
    "            # update current position, check for further possible insertion\n",
    "            current_pos -= 1\n",
    "            # check if already the first element\n",
    "            if (current_pos == 0):\n",
    "                break\n",
    "\n",
    "    "
   ]
  },
  {
   "cell_type": "code",
   "execution_count": 25,
   "metadata": {},
   "outputs": [
    {
     "name": "stdout",
     "output_type": "stream",
     "text": [
      "[-39.8, -6.5, -5.0, 0.0, 1.0, 3.8, 4.7, 7.6, 8.4, 8.4, 10.3, 47.1]\n"
     ]
    }
   ],
   "source": [
    "array = [ -6.5, -5.0, 0.0, 1.0, 3.8, 4.7, 7.6, 8.4, 8.4, -39.8, 10.3, 47.1]\n",
    "insertion_sort(array)\n",
    "print(array)\n",
    "assert array == [-39.8, -6.5, -5.0, 0.0, 1.0, 3.8, 4.7, 7.6, 8.4, 8.4, 10.3, 47.1]"
   ]
  },
  {
   "cell_type": "markdown",
   "metadata": {
    "colab_type": "text",
    "id": "1j3sevN3LJap"
   },
   "source": [
    "**CS4.** Write a function `gen_random_int` that generates a list of integers from `0` to `n - 1` with its sequence randomly shuffled. The function should take in an integer `n`, denoting the number of integers to be generated. \n",
    "\n",
    "Hint: \n",
    "- You can use `random.shuffle(mylist)`  to shuffle the elements of a list called `mylist`.\n",
    "- Refer to [Python's Random module](https://docs.python.org/3.7/library/random.html) for more details on how to use `shuffle()`."
   ]
  },
  {
   "cell_type": "code",
   "execution_count": 1,
   "metadata": {
    "colab": {
     "base_uri": "https://localhost:8080/",
     "height": 34
    },
    "colab_type": "code",
    "executionInfo": {
     "elapsed": 1252,
     "status": "ok",
     "timestamp": 1573001164584,
     "user": {
      "displayName": "Oka Kurniawan",
      "photoUrl": "https://lh3.googleusercontent.com/a-/AAuE7mAnRP7A15yGfrraUO-0BiNVbNmYjI2f9jaZikjr=s64",
      "userId": "05233922875329103764"
     },
     "user_tz": -480
    },
    "id": "bIC71EosLKsB",
    "outputId": "1416fa24-8813-4ba2-8e9b-2814a701c1c1"
   },
   "outputs": [],
   "source": [
    "import random\n",
    "\n",
    "def gen_random_int(number, seed):\n",
    "    result = list(range(0, number)) # generates a list of numbers from 0 to number - 1\n",
    "    random.seed(seed) # so that this will always give the same output given \"seed\" (vocareum can grade)\n",
    "    random.shuffle(result)\n",
    "    return result\n"
   ]
  },
  {
   "cell_type": "code",
   "execution_count": 2,
   "metadata": {},
   "outputs": [
    {
     "name": "stdout",
     "output_type": "stream",
     "text": [
      "[4, 0, 5, 9, 3, 1, 6, 8, 7, 2]\n"
     ]
    }
   ],
   "source": [
    "output = gen_random_int(10, 100)\n",
    "print(output)\n",
    "assert output == [4, 0, 5, 9, 3, 1, 6, 8, 7, 2]"
   ]
  },
  {
   "cell_type": "code",
   "execution_count": null,
   "metadata": {},
   "outputs": [],
   "source": []
  }
 ],
 "metadata": {
  "colab": {
   "collapsed_sections": [],
   "name": "Week01_ProblemSet.ipynb",
   "provenance": []
  },
  "interpreter": {
   "hash": "51eabe67b9fcba34aa9b730a9906da35591090736f9cefdd50c42f446e21cc77"
  },
  "kernelspec": {
   "display_name": "Python 3.9.7 64-bit (windows store)",
   "name": "python3"
  },
  "language_info": {
   "codemirror_mode": {
    "name": "ipython",
    "version": 3
   },
   "file_extension": ".py",
   "mimetype": "text/x-python",
   "name": "python",
   "nbconvert_exporter": "python",
   "pygments_lexer": "ipython3",
   "version": "3.9.9"
  }
 },
 "nbformat": 4,
 "nbformat_minor": 4
}
