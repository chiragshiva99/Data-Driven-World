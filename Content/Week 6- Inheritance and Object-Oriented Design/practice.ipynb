{
 "cells": [
  {
   "cell_type": "code",
   "execution_count": 1,
   "metadata": {},
   "outputs": [
    {
     "name": "stdout",
     "output_type": "stream",
     "text": [
      "1/2\n"
     ]
    }
   ],
   "source": [
    "import fractions\n",
    "\n",
    "f1 = fractions.Fraction(1, 2)\n",
    "\n",
    "print(f1)"
   ]
  },
  {
   "cell_type": "code",
   "execution_count": 2,
   "metadata": {},
   "outputs": [],
   "source": [
    "import collections.abc as c\n",
    "\n",
    "\n",
    "class RightIterable(c.Iterable):\n",
    "    def __init__(self):\n",
    "        self.data = []\n",
    "\n",
    "    def __iter__(self):\n",
    "        return iter(self.data)\n",
    "\n",
    "\n",
    "test = RightIterable()"
   ]
  },
  {
   "cell_type": "code",
   "execution_count": 6,
   "metadata": {},
   "outputs": [
    {
     "name": "stdout",
     "output_type": "stream",
     "text": [
      "[1 2 3] <class 'numpy.ndarray'> int32\n"
     ]
    }
   ],
   "source": [
    "import numpy as np\n",
    "\n",
    "number1 = np.array([1, 2, 3])\n",
    "print(number1, type(number1), number1.dtype)"
   ]
  }
 ],
 "metadata": {
  "interpreter": {
   "hash": "51eabe67b9fcba34aa9b730a9906da35591090736f9cefdd50c42f446e21cc77"
  },
  "kernelspec": {
   "display_name": "Python 3.9.7 64-bit (windows store)",
   "name": "python3"
  },
  "language_info": {
   "codemirror_mode": {
    "name": "ipython",
    "version": 3
   },
   "file_extension": ".py",
   "mimetype": "text/x-python",
   "name": "python",
   "nbconvert_exporter": "python",
   "pygments_lexer": "ipython3",
   "version": "3.9.7"
  },
  "orig_nbformat": 4
 },
 "nbformat": 4,
 "nbformat_minor": 2
}
