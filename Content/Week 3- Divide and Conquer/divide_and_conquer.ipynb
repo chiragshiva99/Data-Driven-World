{
 "cells": [
  {
   "cell_type": "code",
   "execution_count": 4,
   "source": [
    "def power(x,n):\r\n",
    "    result = x\r\n",
    "    if n == 1 : return x\r\n",
    "    for i in range(1, n):\r\n",
    "        result *= x\r\n",
    "\r\n",
    "    return result\r\n",
    "\r\n",
    "print(power(2,5))\r\n",
    "print(power(2, 1))\r\n"
   ],
   "outputs": [
    {
     "output_type": "stream",
     "name": "stdout",
     "text": [
      "32\n",
      "2\n"
     ]
    }
   ],
   "metadata": {}
  },
  {
   "cell_type": "code",
   "execution_count": 2,
   "source": [
    "def Power_Recursion(x, n):\r\n",
    "    if n == 0:\r\n",
    "        return 1\r\n",
    "    else:\r\n",
    "        return Power_Recursion(x, n-1)*x\r\n",
    "\r\n",
    "print(Power_Recursion(3,4))"
   ],
   "outputs": [
    {
     "output_type": "stream",
     "name": "stdout",
     "text": [
      "81\n"
     ]
    }
   ],
   "metadata": {}
  },
  {
   "cell_type": "code",
   "execution_count": 4,
   "source": [
    "#DIVIDE \r\n",
    "#runs but not efficient enough\r\n",
    "\r\n",
    "def power(x,n):\r\n",
    "    result = 1\r\n",
    "    if n == 0 :\r\n",
    "        result = 1\r\n",
    "    if n%2 == 0 and n>0:\r\n",
    "        result = power(x, n // 2) * power(x, n // 2)\r\n",
    "    if n%2 != 0 and n>0:\r\n",
    "        result = x * power(x, n // 2) * power(x, n // 2)\r\n",
    "\r\n",
    "    return result\r\n",
    "\r\n",
    "print(power(2,10))\r\n"
   ],
   "outputs": [
    {
     "output_type": "stream",
     "name": "stdout",
     "text": [
      "1024\n"
     ]
    }
   ],
   "metadata": {}
  },
  {
   "cell_type": "code",
   "execution_count": 1,
   "source": [
    "#DIVIDE \r\n",
    "#More efficient code\r\n",
    "\r\n",
    "def power(x,n):\r\n",
    "    if n == 0 :\r\n",
    "        return 1\r\n",
    "    pow = power(x,n//2)\r\n",
    "    #\"if x is odd, 5 = 2^0 + 2^2\"\r\n",
    "    if n & 1:  #if x is odd then its true     BIT OPERATOR\r\n",
    "        return x*pow*pow \r\n",
    "    return pow*pow \r\n",
    "\r\n",
    "print(power(5,4))\r\n"
   ],
   "outputs": [
    {
     "output_type": "stream",
     "name": "stdout",
     "text": [
      "625\n"
     ]
    }
   ],
   "metadata": {}
  },
  {
   "cell_type": "code",
   "execution_count": 7,
   "source": [
    "# def mergesort(array):\r\n",
    "#     if len(array) <= 1:\r\n",
    "#         return\r\n",
    "#     mid = len(array) // 2\r\n",
    "#     left = array[:mid]\r\n",
    "#     right = array[mid:]\r\n",
    "\r\n",
    "#     merge(array, left, right)\r\n",
    "\r\n",
    "\r\n",
    "# def merge(array, c, d):\r\n",
    "#     len_c = len(c)\r\n",
    "#     len_d = len(d)\r\n",
    "\r\n",
    "#     i = j = k = 0\r\n",
    "\r\n",
    "#     while i < len_c and j < len_d:\r\n",
    "#         if c[i] <= d[j]:\r\n",
    "#             array[k] = c[i]\r\n",
    "#             i += 1\r\n",
    "#         else:\r\n",
    "#             array[k] = d[j]\r\n",
    "#             j += 1\r\n",
    "#         k += 1\r\n",
    "\r\n",
    "#     while i < len_c:\r\n",
    "#         array[k] = c[i]\r\n",
    "#         i+=1\r\n",
    "#         k+=1\r\n",
    "\r\n",
    "#     while j < len_d:\r\n",
    "#         array[k] = d[j]\r\n",
    "#         j+=1\r\n",
    "#         k+=1\r\n"
   ],
   "outputs": [],
   "metadata": {}
  },
  {
   "cell_type": "code",
   "execution_count": 10,
   "source": [
    "# METHOD 2\r\n",
    "\r\n",
    "def mergesort(myList):\r\n",
    "    if len(myList) > 1:\r\n",
    "        mid = len(myList) // 2\r\n",
    "        left = myList[:mid]\r\n",
    "        right = myList[mid:]\r\n",
    "\r\n",
    "        # Recursive call on each half\r\n",
    "        mergesort(left)\r\n",
    "        mergesort(right)\r\n",
    "\r\n",
    "        # Two iterators for traversing the two halves\r\n",
    "        i = 0\r\n",
    "        j = 0\r\n",
    "\r\n",
    "        # Iterator for the main list\r\n",
    "        k = 0\r\n",
    "\r\n",
    "        while i < len(left) and j < len(right):\r\n",
    "            if left[i] <= right[j]:\r\n",
    "                # The value from the left half has been used\r\n",
    "                myList[k] = left[i]\r\n",
    "                # Move the iterator forward\r\n",
    "                i += 1\r\n",
    "            else:\r\n",
    "                myList[k] = right[j]\r\n",
    "                j += 1\r\n",
    "            # Move to the next slot\r\n",
    "            k += 1\r\n",
    "\r\n",
    "        # For all the remaining values\r\n",
    "        while i < len(left):\r\n",
    "            myList[k] = left[i]\r\n",
    "            i += 1\r\n",
    "            k += 1\r\n",
    "\r\n",
    "        while j < len(right):\r\n",
    "            myList[k] = right[j]\r\n",
    "            j += 1\r\n",
    "            k += 1"
   ],
   "outputs": [],
   "metadata": {}
  },
  {
   "cell_type": "code",
   "execution_count": 11,
   "source": [
    "input_array = [5, 2, 4, 7, 1, 3, 2, 6]\r\n",
    "mergesort(input_array)\r\n",
    "print(input_array)\r\n",
    "assert input_array == [1, 2, 2, 3, 4, 5, 6, 7]"
   ],
   "outputs": [
    {
     "output_type": "stream",
     "name": "stdout",
     "text": [
      "[1, 2, 2, 3, 4, 5, 6, 7]\n"
     ]
    }
   ],
   "metadata": {}
  },
  {
   "cell_type": "code",
   "execution_count": null,
   "source": [],
   "outputs": [],
   "metadata": {}
  }
 ],
 "metadata": {
  "orig_nbformat": 4,
  "language_info": {
   "name": "python",
   "version": "3.9.7",
   "mimetype": "text/x-python",
   "codemirror_mode": {
    "name": "ipython",
    "version": 3
   },
   "pygments_lexer": "ipython3",
   "nbconvert_exporter": "python",
   "file_extension": ".py"
  },
  "kernelspec": {
   "name": "python3",
   "display_name": "Python 3.9.7 64-bit (windows store)"
  },
  "interpreter": {
   "hash": "51eabe67b9fcba34aa9b730a9906da35591090736f9cefdd50c42f446e21cc77"
  }
 },
 "nbformat": 4,
 "nbformat_minor": 2
}