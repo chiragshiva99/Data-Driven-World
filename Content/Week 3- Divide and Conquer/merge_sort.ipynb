{
 "cells": [
  {
   "cell_type": "code",
   "execution_count": null,
   "source": [
    "#divide and conquer algorithm\r\n",
    "#   breaking down into multiple subproblems\r\n",
    "\r\n",
    "\r\n",
    "#1 split array iinto half \r\n",
    "#2 call merge sort on each half to sort them recursively \r\n",
    "#3 merge both halves into one sorted array "
   ],
   "outputs": [],
   "metadata": {}
  },
  {
   "cell_type": "code",
   "execution_count": 19,
   "source": [
    "def merge_sort(arr):\r\n",
    "    if len(arr) >1:\r\n",
    "        left_arr = arr[ : len(arr)//2]\r\n",
    "        right_arr = arr[len(arr)//2 : ]\r\n",
    "\r\n",
    "        #recursion\r\n",
    "        merge_sort(left_arr)\r\n",
    "        merge_sort(right_arr)\r\n",
    "\r\n",
    "        #merge step\r\n",
    "        i = 0 #left array index\r\n",
    "        j = 0 #right array index\r\n",
    "        k = 0 #merged array index\r\n",
    "        while i < len(left_arr) and j < len(right_arr):\r\n",
    "            if left_arr[i] < right_arr[i]:\r\n",
    "                arr[k] = left_arr[i]\r\n",
    "                i += 1\r\n",
    "            else:\r\n",
    "                arr[k] = right_arr[j]\r\n",
    "                j += 1\r\n",
    "            k += 1 #keeps getting added in a while loop\r\n",
    "\r\n",
    "        while i < len(left_arr):\r\n",
    "            arr[k] = left_arr[i]\r\n",
    "            i += 1\r\n",
    "            k += 1\r\n",
    "\r\n",
    "        while j < len(left_arr):\r\n",
    "            arr[k] = right_arr[j]\r\n",
    "            j += 1\r\n",
    "            k += 1\r\n"
   ],
   "outputs": [],
   "metadata": {}
  },
  {
   "cell_type": "code",
   "execution_count": 20,
   "source": [
    "arr_test = [2, 3, 5, 1, 7, 4, 4, 4, 2, 6, 0]\r\n",
    "merge_sort(arr_test)\r\n",
    "\r\n",
    "print(arr_test)"
   ],
   "outputs": [
    {
     "output_type": "stream",
     "name": "stdout",
     "text": [
      "[0, 6, 2, 4, 4, 4, 1, 7, 5, 2, 3]\n"
     ]
    }
   ],
   "metadata": {}
  },
  {
   "cell_type": "code",
   "execution_count": null,
   "source": [],
   "outputs": [],
   "metadata": {}
  }
 ],
 "metadata": {
  "orig_nbformat": 4,
  "language_info": {
   "name": "python",
   "version": "3.9.7",
   "mimetype": "text/x-python",
   "codemirror_mode": {
    "name": "ipython",
    "version": 3
   },
   "pygments_lexer": "ipython3",
   "nbconvert_exporter": "python",
   "file_extension": ".py"
  },
  "kernelspec": {
   "name": "python3",
   "display_name": "Python 3.9.7 64-bit (windows store)"
  },
  "interpreter": {
   "hash": "51eabe67b9fcba34aa9b730a9906da35591090736f9cefdd50c42f446e21cc77"
  }
 },
 "nbformat": 4,
 "nbformat_minor": 2
}