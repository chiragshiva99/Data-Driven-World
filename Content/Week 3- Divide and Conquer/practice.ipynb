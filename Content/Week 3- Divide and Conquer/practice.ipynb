{
 "cells": [
  {
   "cell_type": "code",
   "execution_count": 137,
   "source": [
    "# Recursive Python function to solve the tower of hanoi\r\n",
    "\r\n",
    "def movee_disks(n, from_tower, to_tower, aux_tower):\r\n",
    "    result = []\r\n",
    "    if n == 1:\r\n",
    "        a = print (\"Move disk 1 from\", from_tower, \"to\", to_tower+\".\")\r\n",
    "        return a\r\n",
    "\r\n",
    "    else:\r\n",
    "        movee_disks(n - 1, from_tower, aux_tower, to_tower)\r\n",
    "        print(\"Move disk\", n, \"from\", from_tower, \"to\", to_tower+ \".\")\r\n",
    "        movee_disks(n - 1, aux_tower, to_tower, from_tower)\r\n"
   ],
   "outputs": [],
   "metadata": {}
  },
  {
   "cell_type": "code",
   "execution_count": 138,
   "source": [
    "n = 4\r\n",
    "movee_disks(n, 'A', 'B', 'C')"
   ],
   "outputs": [
    {
     "output_type": "stream",
     "name": "stdout",
     "text": [
      "Move disk 1 from A to C.\n",
      "Move disk 2 from A to B.\n",
      "Move disk 1 from C to B.\n",
      "Move disk 3 from A to C.\n",
      "Move disk 1 from B to A.\n",
      "Move disk 2 from B to C.\n",
      "Move disk 1 from A to C.\n",
      "Move disk 4 from A to B.\n",
      "Move disk 1 from C to B.\n",
      "Move disk 2 from C to A.\n",
      "Move disk 1 from B to A.\n",
      "Move disk 3 from C to B.\n",
      "Move disk 1 from A to C.\n",
      "Move disk 2 from A to B.\n",
      "Move disk 1 from C to B.\n"
     ]
    }
   ],
   "metadata": {}
  },
  {
   "cell_type": "code",
   "execution_count": 5,
   "source": [
    "def tower_of_hanoi(disks, A, B, C):\r\n",
    "    result = []\r\n",
    "    if (disks == 1):\r\n",
    "        a = 'Move disk 1 from {} to {}.'.format(A, C)\r\n",
    "        result.append(a)\r\n",
    "    else:\r\n",
    "        tower_of_hanoi(disks - 1, A, C, B)\r\n",
    "        a = ('Move disk {} from {} to {}.'.format(disks, A, C))\r\n",
    "        result.append(a)\r\n",
    "        tower_of_hanoi(disks - 1, B, A, C)\r\n",
    "    return result"
   ],
   "outputs": [],
   "metadata": {}
  },
  {
   "cell_type": "code",
   "execution_count": 10,
   "source": [
    "tower_of_hanoi(2, 'A', 'B', 'C')  #SHOWS ERROR"
   ],
   "outputs": [
    {
     "output_type": "execute_result",
     "data": {
      "text/plain": [
       "['Move disk 2 from A to C.']"
      ]
     },
     "metadata": {},
     "execution_count": 10
    }
   ],
   "metadata": {}
  },
  {
   "cell_type": "code",
   "execution_count": 1,
   "source": [
    "def move_disks(n, from_tower, to_tower, aux_tower):\r\n",
    "    move = f\"Move disk {n} from {from_tower} to {to_tower}.\"\r\n",
    "    if n == 1:\r\n",
    "        return [move]\r\n",
    "    else:\r\n",
    "        return move_disks(n-1,from_tower, aux_tower, to_tower) + [move] + move_disks(n-1, aux_tower, to_tower, from_tower)"
   ],
   "outputs": [],
   "metadata": {}
  },
  {
   "cell_type": "code",
   "execution_count": 2,
   "source": [
    "move_disks(4, 'A', 'B', 'C')"
   ],
   "outputs": [
    {
     "output_type": "execute_result",
     "data": {
      "text/plain": [
       "['Move disk 1 from A to C.',\n",
       " 'Move disk 2 from A to B.',\n",
       " 'Move disk 1 from C to B.',\n",
       " 'Move disk 3 from A to C.',\n",
       " 'Move disk 1 from B to A.',\n",
       " 'Move disk 2 from B to C.',\n",
       " 'Move disk 1 from A to C.',\n",
       " 'Move disk 4 from A to B.',\n",
       " 'Move disk 1 from C to B.',\n",
       " 'Move disk 2 from C to A.',\n",
       " 'Move disk 1 from B to A.',\n",
       " 'Move disk 3 from C to B.',\n",
       " 'Move disk 1 from A to C.',\n",
       " 'Move disk 2 from A to B.',\n",
       " 'Move disk 1 from C to B.']"
      ]
     },
     "metadata": {},
     "execution_count": 2
    }
   ],
   "metadata": {}
  },
  {
   "cell_type": "code",
   "execution_count": 23,
   "source": [
    "from itertools import permutations\r\n",
    "\r\n",
    "\r\n",
    "def permutate(s):\r\n",
    "    if len(s) >= 1:\r\n",
    "        perms = [''.join(p) for p in permutations(s)]\r\n",
    "    return perms\r\n",
    "\r\n",
    "\r\n",
    "assert permutate(\"abc\") == [\"abc\", \"acb\", \"bac\", \"bca\", \"cab\", \"cba\"]\r\n",
    "assert permutate(\"abcd\") == [\r\n",
    "    \"abcd\", \"abdc\", \"acbd\", \"acdb\", \"adbc\", \"adcb\", \"bacd\", \"badc\", \"bcad\",\r\n",
    "    \"bcda\", \"bdac\", \"bdca\", \"cabd\", \"cadb\", \"cbad\", \"cbda\", \"cdab\", \"cdba\",\r\n",
    "    \"dabc\", \"dacb\", \"dbac\", \"dbca\", \"dcab\", \"dcba\"\r\n",
    "]"
   ],
   "outputs": [],
   "metadata": {}
  },
  {
   "cell_type": "code",
   "execution_count": 24,
   "source": [
    "def permutations(string):\r\n",
    "    \"\"\"\r\n",
    "    Create all permutations of a string with non-repeating characters\r\n",
    "    \"\"\"\r\n",
    "    permutation_list = []\r\n",
    "    if len(string) == 1:\r\n",
    "        return [string]\r\n",
    "    else:\r\n",
    "        for char in string:\r\n",
    "            [permutation_list.append(char + a) for a in permutations(string.replace(char, \"\", 1))]\r\n",
    "    return permutation_list\r\n",
    "\r\n",
    "\r\n",
    "print(permutations(\"abcd\"))"
   ],
   "outputs": [
    {
     "output_type": "stream",
     "name": "stdout",
     "text": [
      "['abcd', 'abdc', 'acbd', 'acdb', 'adbc', 'adcb', 'bacd', 'badc', 'bcad', 'bcda', 'bdac', 'bdca', 'cabd', 'cadb', 'cbad', 'cbda', 'cdab', 'cdba', 'dabc', 'dacb', 'dbac', 'dbca', 'dcab', 'dcba']\n"
     ]
    }
   ],
   "metadata": {}
  },
  {
   "cell_type": "code",
   "execution_count": 18,
   "source": [
    "def permute(word):\r\n",
    "    if len(word) == 1:\r\n",
    "        return [word]\r\n",
    "    permutations = permute(word[1:])\r\n",
    "    character = word[0]\r\n",
    "    result = []\r\n",
    "    for p in permutations:\r\n",
    "        for i in range(len(p) + 1):\r\n",
    "            result.append(p[:i] + character + p[i:])\r\n",
    "    return result\r\n",
    "\r\n",
    "\r\n",
    "print(permute('abc'))\r\n",
    "print(permute('abcd'))"
   ],
   "outputs": [
    {
     "output_type": "stream",
     "name": "stdout",
     "text": [
      "['abc', 'bac', 'bca', 'acb', 'cab', 'cba']\n",
      "['abcd', 'bacd', 'bcad', 'bcda', 'acbd', 'cabd', 'cbad', 'cbda', 'acdb', 'cadb', 'cdab', 'cdba', 'abdc', 'badc', 'bdac', 'bdca', 'adbc', 'dabc', 'dbac', 'dbca', 'adcb', 'dacb', 'dcab', 'dcba']\n"
     ]
    }
   ],
   "metadata": {}
  },
  {
   "cell_type": "code",
   "execution_count": 21,
   "source": [
    "# swap ith and jth character of string\r\n",
    "def swap(s, i, j):\r\n",
    "    q = list(s)\r\n",
    "    q[i], q[j] = q[j], q[i]\r\n",
    "    return ''.join(q)\r\n",
    "\r\n",
    "\r\n",
    "# recursive function\r\n",
    "def _permute(p, s, permutes):\r\n",
    "    if p >= len(s) - 1:\r\n",
    "        permutes.append(s)\r\n",
    "        return\r\n",
    "\r\n",
    "    for i in range(p, len(s)):\r\n",
    "        _permute(p + 1, swap(s, p, i), permutes)\r\n",
    "\r\n",
    "\r\n",
    "# helper function\r\n",
    "def permute(s):\r\n",
    "    permutes = []\r\n",
    "    _permute(0, s, permutes)\r\n",
    "    return permutes\r\n",
    "\r\n",
    "\r\n",
    "s = \"abcd\"\r\n",
    "all_permute = permute(s)\r\n",
    "print(all_permute)"
   ],
   "outputs": [
    {
     "output_type": "stream",
     "name": "stdout",
     "text": [
      "['abcd', 'abdc', 'acbd', 'acdb', 'adcb', 'adbc', 'bacd', 'badc', 'bcad', 'bcda', 'bdca', 'bdac', 'cbad', 'cbda', 'cabd', 'cadb', 'cdab', 'cdba', 'dbca', 'dbac', 'dcba', 'dcab', 'dacb', 'dabc']\n"
     ]
    }
   ],
   "metadata": {}
  },
  {
   "cell_type": "code",
   "execution_count": 27,
   "source": [
    "def gcd(a, b):\r\n",
    "    \"\"\"Calculate the Greatest Common Divisor of a and b.\r\n",
    "\r\n",
    "    Unless b==0, the result will have the same sign as b (so that when\r\n",
    "    b is divided by it, the result comes out positive).\r\n",
    "    \"\"\"\r\n",
    "    while b:\r\n",
    "        a, b = b, a % b\r\n",
    "    return a\r\n",
    "\r\n",
    "\r\n",
    "assert gcd(0, 0) == 0\r\n",
    "assert gcd(2, 0) == 2\r\n",
    "assert gcd(0, 2) == 2\r\n",
    "assert gcd(2, 3) == 1\r\n",
    "assert gcd(4, 28) == 4\r\n",
    "assert gcd(1024, 526) == 2"
   ],
   "outputs": [],
   "metadata": {}
  }
 ],
 "metadata": {
  "orig_nbformat": 4,
  "language_info": {
   "name": "python",
   "version": "3.9.7",
   "mimetype": "text/x-python",
   "codemirror_mode": {
    "name": "ipython",
    "version": 3
   },
   "pygments_lexer": "ipython3",
   "nbconvert_exporter": "python",
   "file_extension": ".py"
  },
  "kernelspec": {
   "name": "python3",
   "display_name": "Python 3.9.7 64-bit (windows store)"
  },
  "interpreter": {
   "hash": "51eabe67b9fcba34aa9b730a9906da35591090736f9cefdd50c42f446e21cc77"
  }
 },
 "nbformat": 4,
 "nbformat_minor": 2
}