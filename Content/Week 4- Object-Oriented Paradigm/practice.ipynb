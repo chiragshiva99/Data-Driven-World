{
 "cells": [
  {
   "cell_type": "code",
   "execution_count": 1,
   "metadata": {},
   "outputs": [],
   "source": [
    "# Class definition\n",
    "class RobotTurtle:\n",
    "    # Attributes:\n",
    "    def __init__(self, name, speed=1):\n",
    "        self._name = name\n",
    "        self._speed = speed\n",
    "        self._pos = (0, 0)\n",
    "\n",
    "    # Methods:\n",
    "    def move(self, direction):\n",
    "        update = {\n",
    "            'up': (self._pos[0], self._pos[1] + self._speed),\n",
    "            'down': (self._pos[0], self._pos[1] - self._speed),\n",
    "            'left': (self._pos[0] - self._speed, self._pos[1]),\n",
    "            'right': (self._pos[0] + self._speed, self._pos[1])\n",
    "        }\n",
    "        self._pos = update[direction]\n",
    "\n",
    "    def tell_name(self):\n",
    "        print(f\"My name is {self._name}\")"
   ]
  },
  {
   "cell_type": "code",
   "execution_count": 5,
   "metadata": {},
   "outputs": [
    {
     "name": "stdout",
     "output_type": "stream",
     "text": [
      "My name is T1\n",
      "1\n",
      "2\n"
     ]
    }
   ],
   "source": [
    "# Object Instantiation\n",
    "my_robot = RobotTurtle(\"T1\")\n",
    "\n",
    "# Accessing object's method\n",
    "my_robot.tell_name()\n",
    "\n",
    "# accessing object's attribute\n",
    "print(my_robot._speed)\n",
    "my_robot._speed = 2\n",
    "print(my_robot._speed)"
   ]
  },
  {
   "cell_type": "code",
   "execution_count": 6,
   "metadata": {},
   "outputs": [
    {
     "name": "stdout",
     "output_type": "stream",
     "text": [
      "Robot T2 initially at (0, 0)\n",
      "Robot T2 now at (0, 2)\n",
      "Robot T2 now at (2, 2)\n",
      "Robot T2 now at (2, 4)\n",
      "Robot T2 now at (4, 4)\n",
      "Robot T2 now at (4, 6)\n",
      "Robot T2 now at (6, 6)\n",
      "Robot T2 now at (6, 8)\n",
      "Robot T2 now at (8, 8)\n"
     ]
    }
   ],
   "source": [
    "my_robot = RobotTurtle(\"T2\", 2)\n",
    "\n",
    "print(f'Robot {my_robot._name} initially at {my_robot._pos}')\n",
    "for _ in range(4):\n",
    "    my_robot.move('up')\n",
    "    print(f'Robot {my_robot._name} now at {my_robot._pos}')\n",
    "    my_robot.move('right')\n",
    "    print(f'Robot {my_robot._name} now at {my_robot._pos}')"
   ]
  },
  {
   "cell_type": "code",
   "execution_count": null,
   "metadata": {},
   "outputs": [],
   "source": []
  },
  {
   "cell_type": "code",
   "execution_count": 7,
   "metadata": {},
   "outputs": [],
   "source": [
    "import math\n",
    "\n",
    "\n",
    "class Coordinate:\n",
    "    def __init__(self, x=0, y=0):\n",
    "        self.x = x\n",
    "        self.y = y\n",
    "\n",
    "    @property\n",
    "    def distance(self):\n",
    "        return math.sqrt(self.x * self.x + self.y * self.y)"
   ]
  },
  {
   "cell_type": "code",
   "execution_count": 8,
   "metadata": {},
   "outputs": [],
   "source": [
    "\n",
    "# Class definition\n",
    "class RobotTurtle:\n",
    "    # Attributes:\n",
    "    def __init__(self, name, speed=1):\n",
    "        self.name = name\n",
    "        self.speed = speed\n",
    "        self._pos = Coordinate(0, 0)\n",
    "        \n",
    "    # property getter\n",
    "    @property\n",
    "    def name(self):\n",
    "        return self._name\n",
    "    \n",
    "    # property setter\n",
    "    @name.setter\n",
    "    def name(self, value):\n",
    "        if isinstance(value, str) and value != \"\":\n",
    "            self._name = value\n",
    "            \n",
    "    # property getter\n",
    "    @property\n",
    "    def speed(self):\n",
    "        return self._speed\n",
    "    \n",
    "    # property setter\n",
    "    @speed.setter\n",
    "    def speed(self, value):\n",
    "        if isinstance(value, int) and value > 0:\n",
    "            self._speed = value\n",
    "\n",
    "    # property getter\n",
    "    @property\n",
    "    def pos(self):\n",
    "        return self._pos\n",
    "    \n",
    "    # Methods:\n",
    "    def move(self, direction):\n",
    "        update = {'up' : Coordinate(self.pos.x, self.pos.y + self.speed),\n",
    "                  'down' : Coordinate(self.pos.x, self.pos.y - self.speed),\n",
    "                  'left' : Coordinate(self.pos.x - self.speed, self.pos.y),\n",
    "                  'right' : Coordinate(self.pos.x + self.speed, self.pos.y)}\n",
    "        self._pos = update[direction]\n",
    "\n",
    "        \n",
    "    def tell_name(self):\n",
    "        print(f\"My name is {self.name}\")"
   ]
  },
  {
   "cell_type": "code",
   "execution_count": 9,
   "metadata": {},
   "outputs": [
    {
     "name": "stdout",
     "output_type": "stream",
     "text": [
      "<__main__.Coordinate object at 0x000001585B93C310>\n"
     ]
    }
   ],
   "source": [
    "my_robot = RobotTurtle(\"T with Coordinate\")\n",
    "print(my_robot.pos)"
   ]
  },
  {
   "cell_type": "code",
   "execution_count": 10,
   "metadata": {},
   "outputs": [
    {
     "name": "stdout",
     "output_type": "stream",
     "text": [
      "0 0\n"
     ]
    }
   ],
   "source": [
    "print(my_robot.pos.x, my_robot.pos.y)"
   ]
  },
  {
   "cell_type": "code",
   "execution_count": 12,
   "metadata": {},
   "outputs": [
    {
     "name": "stdout",
     "output_type": "stream",
     "text": [
      "1 -1\n"
     ]
    }
   ],
   "source": [
    "my_robot.move(\"right\")\n",
    "my_robot.move(\"down\")\n",
    "print(my_robot.pos.x, my_robot.pos.y)"
   ]
  },
  {
   "cell_type": "code",
   "execution_count": 13,
   "metadata": {},
   "outputs": [
    {
     "name": "stdout",
     "output_type": "stream",
     "text": [
      "(2, 3)\n",
      "(0, 0)\n"
     ]
    }
   ],
   "source": [
    "import math\n",
    "\n",
    "\n",
    "class Coordinate:\n",
    "    def __init__(self, x=0, y=0):\n",
    "        self.x = x\n",
    "        self.y = y\n",
    "\n",
    "    @property\n",
    "    def distance(self):\n",
    "        return math.sqrt(self.x * self.x + self.y * self.y)\n",
    "\n",
    "    def __str__(self):\n",
    "        return f\"({self.x}, {self.y})\"\n",
    "\n",
    "\n",
    "p1 = Coordinate(2, 3)\n",
    "print(p1)\n",
    "\n",
    "my_robot = RobotTurtle(\"T with Coordinate\")\n",
    "print(my_robot.pos)"
   ]
  },
  {
   "cell_type": "code",
   "execution_count": 7,
   "metadata": {},
   "outputs": [
    {
     "name": "stdout",
     "output_type": "stream",
     "text": [
      "1 4 7\n",
      "2 5 8\n",
      "3 6 9\n"
     ]
    }
   ],
   "source": [
    "foo = (1, 2, 3)\n",
    "bar = (4, 5, 6)\n",
    "gaandu = (7,8,9)\n",
    "\n",
    "for f, b, g in zip(foo, bar, gaandu): #zip for more than 1 iterator \n",
    "    print(f, b, g)"
   ]
  }
 ],
 "metadata": {
  "interpreter": {
   "hash": "51eabe67b9fcba34aa9b730a9906da35591090736f9cefdd50c42f446e21cc77"
  },
  "kernelspec": {
   "display_name": "Python 3.9.7 64-bit (windows store)",
   "name": "python3"
  },
  "language_info": {
   "codemirror_mode": {
    "name": "ipython",
    "version": 3
   },
   "file_extension": ".py",
   "mimetype": "text/x-python",
   "name": "python",
   "nbconvert_exporter": "python",
   "pygments_lexer": "ipython3",
   "version": "3.9.7"
  },
  "orig_nbformat": 4
 },
 "nbformat": 4,
 "nbformat_minor": 2
}
