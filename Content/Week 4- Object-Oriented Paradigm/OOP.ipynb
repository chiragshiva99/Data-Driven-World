{
 "cells": [
  {
   "cell_type": "code",
   "execution_count": 17,
   "metadata": {},
   "outputs": [
    {
     "name": "stdout",
     "output_type": "stream",
     "text": [
      "1.4142135623730951\n",
      "1.0\n"
     ]
    }
   ],
   "source": [
    "class coordinate:\n",
    "    x= 1.0\n",
    "    y= 1.0\n",
    "\n",
    "    def distOrg(self):\n",
    "        dst = ((self.x**2 + self.y**2)**0.5)\n",
    "        return dst\n",
    "\n",
    "c1 = coordinate()  #Create Class instance\n",
    "dst = c1.distOrg() #calls method\n",
    "print(dst)\n",
    "\n",
    "c1.x = 0\n",
    "print(c1.distOrg())"
   ]
  },
  {
   "cell_type": "code",
   "execution_count": 4,
   "metadata": {},
   "outputs": [
    {
     "name": "stdout",
     "output_type": "stream",
     "text": [
      "List before calling remove function:\n",
      "[1, 4, 'gaandu', 2, 6, 1]\n",
      "List after calling remove function:\n",
      "[1, 4, 2, 6, 1]\n"
     ]
    }
   ],
   "source": [
    "l = [1, 4, \"gaandu\", 2, 6, 1]\n",
    "\n",
    "print(\"List before calling remove function:\")\n",
    "print(l)\n",
    "\n",
    "l.remove(\"gaandu\")\n",
    "\n",
    "print(\"List after calling remove function:\")\n",
    "print(l)"
   ]
  },
  {
   "cell_type": "code",
   "execution_count": 15,
   "metadata": {},
   "outputs": [
    {
     "name": "stdout",
     "output_type": "stream",
     "text": [
      "1.4142135623730951\n",
      "1.0\n"
     ]
    }
   ],
   "source": [
    "class coordinate:\n",
    "\n",
    "    def __init__(self, x, y):\n",
    "        self.x = x\n",
    "        self.y = y\n",
    "\n",
    "    def distOrg(self):\n",
    "        dst = ((self.x**2 + self.y**2)**0.5)\n",
    "        return dst\n",
    "\n",
    "\n",
    "c1 = coordinate(1, 1)  #Create Class instance\n",
    "dst = c1.distOrg()  #calls method\n",
    "print(dst)\n",
    "\n",
    "c1.x = 0\n",
    "print(c1.distOrg())"
   ]
  },
  {
   "cell_type": "code",
   "execution_count": 21,
   "metadata": {},
   "outputs": [
    {
     "name": "stdout",
     "output_type": "stream",
     "text": [
      "number of objects,  0\n",
      "number of objects,  0\n",
      "number of objects,  0\n"
     ]
    }
   ],
   "source": [
    "class coordinate:\n",
    "    nc = 0  # class Variable\n",
    "    def __init__(self, x, y):\n",
    "        self.x = x\n",
    "        self.y = y\n",
    "\n",
    "    def distOrg(self):\n",
    "        dst = ((self.x**2 + self.y**2)**0.5)\n",
    "        return dst\n",
    "\n",
    "c1 = coordinate(1,1)\n",
    "print('number of objects, ',c1.nc)\n",
    "\n",
    "c2 = coordinate(1, 2)   #RECHECK LATER \n",
    "print('number of objects, ', c2.nc)\n",
    "\n",
    "\n",
    "c3 = coordinate(1, 1)\n",
    "print('number of objects, ', c3.nc)\n"
   ]
  },
  {
   "cell_type": "code",
   "execution_count": 22,
   "metadata": {},
   "outputs": [],
   "source": [
    "class coordinate:\n",
    "    __x = 1.0\n",
    "    __y = 1.0\n",
    "    _nc = 0\n",
    "\n",
    "    def __init__(self, x, y):\n",
    "        self.x = x\n",
    "        self.y = y\n",
    "        coordinate    ##1 hr into lecture modify code \n",
    "\n",
    "    def distOrg(self):\n",
    "        dst = ((self.x**2 + self.y**2)**0.5)\n",
    "        return dst"
   ]
  },
  {
   "cell_type": "code",
   "execution_count": null,
   "metadata": {},
   "outputs": [],
   "source": [
    "#PRIVATE ATTRIBUTES AND METHODS \n",
    "'''youtube'''"
   ]
  }
 ],
 "metadata": {
  "interpreter": {
   "hash": "51eabe67b9fcba34aa9b730a9906da35591090736f9cefdd50c42f446e21cc77"
  },
  "kernelspec": {
   "display_name": "Python 3.9.7 64-bit (windows store)",
   "name": "python3"
  },
  "language_info": {
   "codemirror_mode": {
    "name": "ipython",
    "version": 3
   },
   "file_extension": ".py",
   "mimetype": "text/x-python",
   "name": "python",
   "nbconvert_exporter": "python",
   "pygments_lexer": "ipython3",
   "version": "3.9.7"
  },
  "orig_nbformat": 4
 },
 "nbformat": 4,
 "nbformat_minor": 2
}
